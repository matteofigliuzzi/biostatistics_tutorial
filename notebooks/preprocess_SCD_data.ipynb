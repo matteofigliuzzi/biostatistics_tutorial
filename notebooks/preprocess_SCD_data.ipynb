{
 "cells": [
  {
   "cell_type": "code",
   "execution_count": 1,
   "id": "b6a15596",
   "metadata": {},
   "outputs": [],
   "source": [
    "import pandas as pd"
   ]
  },
  {
   "cell_type": "code",
   "execution_count": 3,
   "id": "1bdf0732",
   "metadata": {},
   "outputs": [
    {
     "name": "stderr",
     "output_type": "stream",
     "text": [
      "/home/matteo/miniconda2/lib/python3.7/site-packages/openpyxl/worksheet/_reader.py:312: UserWarning: Unknown extension is not supported and will be removed\n",
      "  warn(msg)\n"
     ]
    }
   ],
   "source": [
    "data_scd = pd.read_excel('../data/pone.0213024.s001.xlsx',sheet_name='SCD')\n",
    "data_scd['SCD']=1\n",
    "data_nscd = pd.read_excel('../data/pone.0213024.s001.xlsx',sheet_name='Control_non SCD')\n",
    "data_nscd['SCD']=0\n",
    "data_nscd.rename(columns={'AMH Reults':'AMH','smoking(no=0; yes=1; not known=2)':'Smoking'},inplace=True)\n",
    "data_nscd.loc[data_nscd.Smoking==2,'Smoking']= 0\n",
    "data = pd.concat([data_scd,data_nscd])\n",
    "data['AMH<5'] = data['AMH'] < 5\n",
    "data[['Age','AMH','SCD','Smoking','AMH<5']].to_excel('../data/dataset_amh.xlsx',index=False)\n"
   ]
  },
  {
   "cell_type": "code",
   "execution_count": null,
   "id": "2fd4a866",
   "metadata": {},
   "outputs": [],
   "source": []
  }
 ],
 "metadata": {
  "hide_input": false,
  "kernelspec": {
   "display_name": "Python 3 (ipykernel)",
   "language": "python",
   "name": "python3"
  },
  "language_info": {
   "codemirror_mode": {
    "name": "ipython",
    "version": 3
   },
   "file_extension": ".py",
   "mimetype": "text/x-python",
   "name": "python",
   "nbconvert_exporter": "python",
   "pygments_lexer": "ipython3",
   "version": "3.7.7"
  },
  "toc": {
   "base_numbering": 1,
   "nav_menu": {},
   "number_sections": true,
   "sideBar": true,
   "skip_h1_title": false,
   "title_cell": "Table of Contents",
   "title_sidebar": "Contents",
   "toc_cell": false,
   "toc_position": {},
   "toc_section_display": true,
   "toc_window_display": false
  }
 },
 "nbformat": 4,
 "nbformat_minor": 5
}
