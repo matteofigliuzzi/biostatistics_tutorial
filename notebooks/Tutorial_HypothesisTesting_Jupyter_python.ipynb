{
 "cells": [
  {
   "cell_type": "markdown",
   "metadata": {},
   "source": [
    "# Welcome to the biostatistics tutorial!\n",
    "\n",
    "In this tutorial we will use Python language to analyze some biological datasets and perform statistical analysis and statistical tests. The tutorial was created in Jupyter notebook and can be run as a live notebook, either in the cloud, or you can download it and run it locally in you computer.\n",
    "\n",
    "The tutorial is inspired by: \n",
    "- Pollard et al (2019), \"Empowering Statistical Methods for Cellular and Molecular Biologists\",  Molecular Biology of the CellVol. 30, No. 12 https://www.molbiolcell.org/doi/full/10.1091/mbc.E15-02-0076 \n",
    "\n",
    "In case you are more familiar with R language, have a look at the original tutorial which was written in R."
   ]
  },
  {
   "cell_type": "markdown",
   "metadata": {},
   "source": [
    "# Outline of the Tutorial"
   ]
  },
  {
   "cell_type": "markdown",
   "metadata": {},
   "source": [
    "In this tutorial we will analyze three data sets (provided as Excel files), using different statistical tests:\n",
    "\n",
    "1. Fisher Exact test for association between binary variables\n",
    "2. Welch's t-test for unequal variances\n",
    "3. Logistic regression to assess the impact of SCD on ovarian reserve\n",
    "4. Student's t-test on log transformed responses\n",
    "5. Logistic regression for categorical response and two treatment variables\n",
    "6. Chi-Square contingency test on combined response and combined treatment groups\n",
    "7. ANOVA with Tukey-Kramer post-hoc\n",
    "\n",
    "For each example, the following steps are taken:\n",
    "-  State biological hypothesis\n",
    "-  State the number and types of variables\n",
    "-  Determine the preferred statistical test and null hypothesis\n",
    "-  Check if data meet the assumptions of the preferred statistical test\n",
    "-  Decide what statistical test to use\n",
    "-  Run the statistical test\n",
    "-  Interpret the results of the statistical test\n",
    "-  Display the data and statistical results in a figure\n",
    "\n",
    "You do not need to install Python or perform any of the analyses in the tutorial in order to learn from the examples!"
   ]
  },
  {
   "cell_type": "markdown",
   "metadata": {},
   "source": [
    "# The computational tools\n",
    "\n",
    "## What is Python?\n",
    "\n",
    "Python is a high-level, interpreted, general-purpose programming language. It provides a wide range of tools useful to perform biostatistical analysis. You can find a simple tutorial focusing on the essentials you need to know to start programming with Python.\n",
    "https://realpython.com/python-first-steps/\n",
    "\n",
    "## What is a Jupyter notebook?\n",
    "\n",
    "A Jupyter Notebook is an open source application that you can use to create and share documents that contain live code in different languages (such as Python or R), analysis, visualizations, and text. \n",
    "\n",
    "In a Jupyter notebook code blocks are in grey boxes (see just below), and output from running the code (including text, results of calculations and plots) just after the python code blocks.\n",
    "\n",
    "To execute the code, you can use the \"Run\" button or pressing shift + enter. "
   ]
  },
  {
   "cell_type": "code",
   "execution_count": 1,
   "metadata": {},
   "outputs": [
    {
     "name": "stdout",
     "output_type": "stream",
     "text": [
      "this is the output from some python code\n"
     ]
    }
   ],
   "source": [
    "print('this is the output from some python code')"
   ]
  },
  {
   "cell_type": "code",
   "execution_count": 2,
   "metadata": {},
   "outputs": [
    {
     "name": "stdout",
     "output_type": "stream",
     "text": [
      "8\n"
     ]
    }
   ],
   "source": [
    "# These first 2 lines are a comment in Python, as they starts with the pound sign \"#\"\n",
    "# print('this is just a comment, it is not run')\n",
    "\n",
    "print(3+5) # in this line the comment starts after the print command"
   ]
  },
  {
   "cell_type": "markdown",
   "metadata": {},
   "source": [
    "You can create new blocks or, alternatively, you can edit the code of existing blocks:\n"
   ]
  },
  {
   "cell_type": "code",
   "execution_count": 3,
   "metadata": {},
   "outputs": [
    {
     "name": "stdout",
     "output_type": "stream",
     "text": [
      "27\n"
     ]
    }
   ],
   "source": [
    "# Try to edit the content below to change the output of the cell\n",
    "\n",
    "a=22\n",
    "b=5\n",
    "print(a+b)"
   ]
  },
  {
   "cell_type": "markdown",
   "metadata": {},
   "source": [
    "More information on Jupyter notebooks here: https://realpython.com/jupyter-notebook-introduction/\n"
   ]
  },
  {
   "cell_type": "markdown",
   "metadata": {},
   "source": [
    "## How to run this Jupyter notebook on cloud?\n",
    "\n",
    "You don't have to do anything but copy and paste the following URL in your web browser:\n",
    "\n",
    "https://mybinder.org/v2/gh/matteofigliuzzi/biostatistics_tutorial/main?labpath=notebooks%2FTutorial_HypothesisTesting_Jupyter_python.ipynb\n",
    "\n",
    "and an interactive notebook session will be opened in your browser.\n",
    "\n",
    "I have pre-built a Binder repository associated to the following github repo: https://github.com/matteofigliuzzi/biostatistics_tutorial . Binder is a service provided by the Binder Project. It allows you to input the URL of any public Git repository, and it will open that repository within the native Jupyter Notebook interface. You can run any notebooks in the repository, though any changes you make will not be saved back to the repository. The repository must include a configuration file that specifies its package requirements, which are used by Binder to build a Docker image, in which all configurations and dependencies to run the notebook are satisfied.\n",
    "\n",
    "## How to run this notebook locally on you computer?\n",
    "\n",
    "To run the notebook on your computer, you have to download it from here: https://github.com/matteofigliuzzi/biostatistics_tutorial and make sure that you have Python and Jupyter notebook installed (and all dependencies satisfied).\n",
    "\n",
    "### Installing python\n",
    "Installing Python is generally easy, and nowadays most Linux and UNIX distributions include a recent Python. Even some Windows computers now come with Python already installed. If you do need to install Python, follow the incrusctions on this page: https://wiki.python.org/moin/BeginnersGuide/Download\n",
    "\n",
    "\n",
    "### Downloading and using Jupyter\n",
    "To install Jupyter in your computer follow the instructions on this page: https://jupyter.org/install\n"
   ]
  },
  {
   "cell_type": "markdown",
   "metadata": {},
   "source": [
    "# Importing the libraries\n",
    "\n",
    "In Python language, libraries, packages and modules are files (or group of files) containing specialized functions.\n",
    "\n",
    "Although you only have to install a specialized library once (this was done by Binder if you are running the notebook on cloud), you have to load it every time you restart python and want to use functions in the library.  \n",
    "\n",
    "Libraries, packages or modules can be loaded using the import statement as follows:"
   ]
  },
  {
   "cell_type": "code",
   "execution_count": 4,
   "metadata": {},
   "outputs": [],
   "source": [
    "#Fundamental packages for scientific computing with Python\n",
    "import numpy as np \n",
    "from scipy import stats as st\n",
    "\n",
    "#Package for data analysis and manipulation tool\n",
    "import pandas as pd \n",
    "\n",
    "#Packages for data visualization \n",
    "import seaborn as sns \n",
    "from matplotlib import pyplot as plt\n",
    "\n",
    "#Package for biostatistical analysis, check documentation here https://github.com/reneshbedre/bioinfokit\n",
    "from bioinfokit.analys import stat "
   ]
  },
  {
   "cell_type": "markdown",
   "metadata": {},
   "source": [
    "# Example 1: Fisher Exact test for binary variables\n",
    "\n",
    "In this first example, we are testing the biological hypothesis that a mutant genotype affects a phenotype we are measuring. Our statistical null hypothesis is that genotype has no effect on the phenotype.\n",
    "\n",
    "There are two variables in the experiment: Genotype and Phenotype. Genotype (our independent variable) is a categorical variable with two possible values: WT and Mutant. Phenotype (our dependent variable) is a categorical binary variable (Pizza or Pasta).\n",
    "\n",
    "Based on these two variables, we will run a Fisher Exact Test to check if they are significantly associated or not."
   ]
  },
  {
   "cell_type": "code",
   "execution_count": 5,
   "metadata": {},
   "outputs": [],
   "source": [
    "# read fist data file into dataframe (using pandas library)\n",
    "data0 = pd.read_excel('../data/dataset0.xlsx')"
   ]
  },
  {
   "cell_type": "code",
   "execution_count": 6,
   "metadata": {},
   "outputs": [
    {
     "data": {
      "text/html": [
       "<div>\n",
       "<style scoped>\n",
       "    .dataframe tbody tr th:only-of-type {\n",
       "        vertical-align: middle;\n",
       "    }\n",
       "\n",
       "    .dataframe tbody tr th {\n",
       "        vertical-align: top;\n",
       "    }\n",
       "\n",
       "    .dataframe thead th {\n",
       "        text-align: right;\n",
       "    }\n",
       "</style>\n",
       "<table border=\"1\" class=\"dataframe\">\n",
       "  <thead>\n",
       "    <tr style=\"text-align: right;\">\n",
       "      <th></th>\n",
       "      <th>Genotype</th>\n",
       "      <th>Phenotype</th>\n",
       "    </tr>\n",
       "  </thead>\n",
       "  <tbody>\n",
       "    <tr>\n",
       "      <th>0</th>\n",
       "      <td>Mutant</td>\n",
       "      <td>Pizza</td>\n",
       "    </tr>\n",
       "    <tr>\n",
       "      <th>1</th>\n",
       "      <td>Mutant</td>\n",
       "      <td>Pizza</td>\n",
       "    </tr>\n",
       "    <tr>\n",
       "      <th>2</th>\n",
       "      <td>WT</td>\n",
       "      <td>Pizza</td>\n",
       "    </tr>\n",
       "    <tr>\n",
       "      <th>3</th>\n",
       "      <td>WT</td>\n",
       "      <td>Pizza</td>\n",
       "    </tr>\n",
       "    <tr>\n",
       "      <th>4</th>\n",
       "      <td>Mutant</td>\n",
       "      <td>Pizza</td>\n",
       "    </tr>\n",
       "  </tbody>\n",
       "</table>\n",
       "</div>"
      ],
      "text/plain": [
       "  Genotype Phenotype\n",
       "0   Mutant     Pizza\n",
       "1   Mutant     Pizza\n",
       "2       WT     Pizza\n",
       "3       WT     Pizza\n",
       "4   Mutant     Pizza"
      ]
     },
     "execution_count": 6,
     "metadata": {},
     "output_type": "execute_result"
    }
   ],
   "source": [
    "# show the first 5 lines of the dataframe\n",
    "data0.head(5)"
   ]
  },
  {
   "cell_type": "code",
   "execution_count": 7,
   "metadata": {},
   "outputs": [
    {
     "data": {
      "text/html": [
       "<div>\n",
       "<style scoped>\n",
       "    .dataframe tbody tr th:only-of-type {\n",
       "        vertical-align: middle;\n",
       "    }\n",
       "\n",
       "    .dataframe tbody tr th {\n",
       "        vertical-align: top;\n",
       "    }\n",
       "\n",
       "    .dataframe thead th {\n",
       "        text-align: right;\n",
       "    }\n",
       "</style>\n",
       "<table border=\"1\" class=\"dataframe\">\n",
       "  <thead>\n",
       "    <tr style=\"text-align: right;\">\n",
       "      <th></th>\n",
       "      <th>Genotype</th>\n",
       "      <th>Phenotype</th>\n",
       "    </tr>\n",
       "  </thead>\n",
       "  <tbody>\n",
       "    <tr>\n",
       "      <th>197</th>\n",
       "      <td>Mutant</td>\n",
       "      <td>Pizza</td>\n",
       "    </tr>\n",
       "    <tr>\n",
       "      <th>198</th>\n",
       "      <td>WT</td>\n",
       "      <td>Pizza</td>\n",
       "    </tr>\n",
       "    <tr>\n",
       "      <th>199</th>\n",
       "      <td>WT</td>\n",
       "      <td>Pasta</td>\n",
       "    </tr>\n",
       "  </tbody>\n",
       "</table>\n",
       "</div>"
      ],
      "text/plain": [
       "    Genotype Phenotype\n",
       "197   Mutant     Pizza\n",
       "198       WT     Pizza\n",
       "199       WT     Pasta"
      ]
     },
     "execution_count": 7,
     "metadata": {},
     "output_type": "execute_result"
    }
   ],
   "source": [
    "# show the last 3 lines of the dataframe\n",
    "data0.tail(3)"
   ]
  },
  {
   "cell_type": "markdown",
   "metadata": {},
   "source": [
    "In the above code blocks we read the data in from an Excel file and saved it in a data frame variable called 'data1'. The data appears to have been read in correctly. Each row is a record and the columns are the variables. In this case, each individual has a genotype and measurement. "
   ]
  },
  {
   "cell_type": "code",
   "execution_count": 8,
   "metadata": {},
   "outputs": [
    {
     "data": {
      "text/plain": [
       "(200, 2)"
      ]
     },
     "execution_count": 8,
     "metadata": {},
     "output_type": "execute_result"
    }
   ],
   "source": [
    "# look at the size of the dataframe (rows, columns)\n",
    "data0.shape"
   ]
  },
  {
   "cell_type": "code",
   "execution_count": 9,
   "metadata": {},
   "outputs": [
    {
     "data": {
      "text/plain": [
       "Pizza    122\n",
       "Pasta     78\n",
       "Name: Phenotype, dtype: int64"
      ]
     },
     "execution_count": 9,
     "metadata": {},
     "output_type": "execute_result"
    }
   ],
   "source": [
    "#use pandas to calculate phenotype frequency\n",
    "data0['Phenotype'].value_counts()"
   ]
  },
  {
   "cell_type": "code",
   "execution_count": 10,
   "metadata": {},
   "outputs": [
    {
     "data": {
      "text/plain": [
       "Mutant    100\n",
       "WT        100\n",
       "Name: Genotype, dtype: int64"
      ]
     },
     "execution_count": 10,
     "metadata": {},
     "output_type": "execute_result"
    }
   ],
   "source": [
    "#use pandas to calculate genotype frequency\n",
    "data0['Genotype'].value_counts()"
   ]
  },
  {
   "cell_type": "code",
   "execution_count": 11,
   "metadata": {},
   "outputs": [
    {
     "data": {
      "text/html": [
       "<div>\n",
       "<style scoped>\n",
       "    .dataframe tbody tr th:only-of-type {\n",
       "        vertical-align: middle;\n",
       "    }\n",
       "\n",
       "    .dataframe tbody tr th {\n",
       "        vertical-align: top;\n",
       "    }\n",
       "\n",
       "    .dataframe thead th {\n",
       "        text-align: right;\n",
       "    }\n",
       "</style>\n",
       "<table border=\"1\" class=\"dataframe\">\n",
       "  <thead>\n",
       "    <tr style=\"text-align: right;\">\n",
       "      <th>Genotype</th>\n",
       "      <th>Mutant</th>\n",
       "      <th>WT</th>\n",
       "    </tr>\n",
       "    <tr>\n",
       "      <th>Phenotype</th>\n",
       "      <th></th>\n",
       "      <th></th>\n",
       "    </tr>\n",
       "  </thead>\n",
       "  <tbody>\n",
       "    <tr>\n",
       "      <th>Pasta</th>\n",
       "      <td>28</td>\n",
       "      <td>50</td>\n",
       "    </tr>\n",
       "    <tr>\n",
       "      <th>Pizza</th>\n",
       "      <td>72</td>\n",
       "      <td>50</td>\n",
       "    </tr>\n",
       "  </tbody>\n",
       "</table>\n",
       "</div>"
      ],
      "text/plain": [
       "Genotype   Mutant  WT\n",
       "Phenotype            \n",
       "Pasta          28  50\n",
       "Pizza          72  50"
      ]
     },
     "metadata": {},
     "output_type": "display_data"
    }
   ],
   "source": [
    "# use pandas to calculate a contingency table\n",
    "table = pd.crosstab(data0.Phenotype,data0.Genotype)\n",
    "display(table)"
   ]
  },
  {
   "cell_type": "code",
   "execution_count": 12,
   "metadata": {},
   "outputs": [
    {
     "data": {
      "text/plain": [
       "<AxesSubplot:xlabel='Genotype', ylabel='Count'>"
      ]
     },
     "execution_count": 12,
     "metadata": {},
     "output_type": "execute_result"
    },
    {
     "data": {
      "image/png": "[encoded data removed]",
      "text/plain": [
       "<Figure size 432x288 with 1 Axes>"
      ]
     },
     "metadata": {
      "needs_background": "light"
     },
     "output_type": "display_data"
    }
   ],
   "source": [
    "#histogram of the phenotype data, stratified by genotype\n",
    "sns.histplot(data=data0,x='Genotype',hue='Phenotype',multiple='dodge',shrink=0.6)"
   ]
  },
  {
   "cell_type": "code",
   "execution_count": 13,
   "metadata": {},
   "outputs": [],
   "source": [
    "# Perform Fisher exact test, setting alpha=0.05\n",
    "fisher_test = st.fisher_exact(table)"
   ]
  },
  {
   "cell_type": "code",
   "execution_count": 14,
   "metadata": {},
   "outputs": [
    {
     "name": "stdout",
     "output_type": "stream",
     "text": [
      "Fisher Exact Test p-value is: 0.0022333075142261846\n"
     ]
    }
   ],
   "source": [
    "print('Fisher Exact Test p-value is:',fisher_test[1])"
   ]
  },
  {
   "cell_type": "markdown",
   "metadata": {},
   "source": [
    "Our p-value is less than our alpha value of 0.05 so we reject the null hypothesis that genotype has no effect on our measured response."
   ]
  },
  {
   "cell_type": "markdown",
   "metadata": {},
   "source": [
    "# Example 2: Welch's t-test for unequal variances\n",
    "\n",
    "In this example, we are testing again the biological hypothesis that a mutant genotype affects a phenotype we are measuring. Again, our statistical null hypothesis is that genotype has no effect on the measurement.\n",
    "\n",
    "Genotype is again a categorical variable with two possible values: WT and Mutant, but \n",
    "Measurement is now a continuous numerical variable. \n",
    "\n",
    "Based on these two variables, we will run a Student's two-sample t-test as long as we can meet the assumptions of that test: normally distributed responses within each treatment and equal variances between treatments. We have to look at our data to see if we have met these assumptions."
   ]
  },
  {
   "cell_type": "code",
   "execution_count": 15,
   "metadata": {},
   "outputs": [
    {
     "name": "stderr",
     "output_type": "stream",
     "text": [
      "/home/matteo/miniconda2/lib/python3.7/site-packages/openpyxl/worksheet/_reader.py:312: UserWarning: Unknown extension is not supported and will be removed\n",
      "  warn(msg)\n"
     ]
    }
   ],
   "source": [
    "# read fist data file into data frame object\n",
    "data1 = pd.read_excel('../data/dataset1.xlsx')"
   ]
  },
  {
   "cell_type": "code",
   "execution_count": 16,
   "metadata": {},
   "outputs": [
    {
     "data": {
      "text/html": [
       "<div>\n",
       "<style scoped>\n",
       "    .dataframe tbody tr th:only-of-type {\n",
       "        vertical-align: middle;\n",
       "    }\n",
       "\n",
       "    .dataframe tbody tr th {\n",
       "        vertical-align: top;\n",
       "    }\n",
       "\n",
       "    .dataframe thead th {\n",
       "        text-align: right;\n",
       "    }\n",
       "</style>\n",
       "<table border=\"1\" class=\"dataframe\">\n",
       "  <thead>\n",
       "    <tr style=\"text-align: right;\">\n",
       "      <th></th>\n",
       "      <th>Genotype</th>\n",
       "      <th>Measurement</th>\n",
       "    </tr>\n",
       "  </thead>\n",
       "  <tbody>\n",
       "    <tr>\n",
       "      <th>0</th>\n",
       "      <td>WT</td>\n",
       "      <td>12.0</td>\n",
       "    </tr>\n",
       "    <tr>\n",
       "      <th>1</th>\n",
       "      <td>WT</td>\n",
       "      <td>8.0</td>\n",
       "    </tr>\n",
       "    <tr>\n",
       "      <th>2</th>\n",
       "      <td>WT</td>\n",
       "      <td>14.0</td>\n",
       "    </tr>\n",
       "    <tr>\n",
       "      <th>3</th>\n",
       "      <td>WT</td>\n",
       "      <td>14.5</td>\n",
       "    </tr>\n",
       "    <tr>\n",
       "      <th>4</th>\n",
       "      <td>WT</td>\n",
       "      <td>3.5</td>\n",
       "    </tr>\n",
       "  </tbody>\n",
       "</table>\n",
       "</div>"
      ],
      "text/plain": [
       "  Genotype  Measurement\n",
       "0       WT         12.0\n",
       "1       WT          8.0\n",
       "2       WT         14.0\n",
       "3       WT         14.5\n",
       "4       WT          3.5"
      ]
     },
     "execution_count": 16,
     "metadata": {},
     "output_type": "execute_result"
    }
   ],
   "source": [
    "# look at the first several rows of data\n",
    "data1.head(5)"
   ]
  },
  {
   "cell_type": "code",
   "execution_count": 17,
   "metadata": {},
   "outputs": [
    {
     "data": {
      "text/plain": [
       "(40, 2)"
      ]
     },
     "execution_count": 17,
     "metadata": {},
     "output_type": "execute_result"
    }
   ],
   "source": [
    "# look at the size of the dataframe (rows, columns)\n",
    "data1.shape"
   ]
  },
  {
   "cell_type": "code",
   "execution_count": 18,
   "metadata": {},
   "outputs": [
    {
     "data": {
      "text/plain": [
       "count    40.000000\n",
       "mean     16.414500\n",
       "std       9.579658\n",
       "min       2.000000\n",
       "25%      10.000000\n",
       "50%      14.250000\n",
       "75%      21.625000\n",
       "max      45.000000\n",
       "Name: Measurement, dtype: float64"
      ]
     },
     "execution_count": 18,
     "metadata": {},
     "output_type": "execute_result"
    }
   ],
   "source": [
    "# look at summary information on the Measurement variable\n",
    "data1['Measurement'].describe()"
   ]
  },
  {
   "cell_type": "markdown",
   "metadata": {},
   "source": [
    "The describe function shows us some information about the data. From that we learn that the measurements range from 2 to 45.\n",
    "\n",
    "We are interested in checking the assumptions of the t-test so we plot the data and calculate  summary statistics."
   ]
  },
  {
   "cell_type": "code",
   "execution_count": 19,
   "metadata": {},
   "outputs": [
    {
     "data": {
      "text/plain": [
       "<AxesSubplot:xlabel='Genotype', ylabel='Measurement'>"
      ]
     },
     "execution_count": 19,
     "metadata": {},
     "output_type": "execute_result"
    },
    {
     "data": {
      "image/png": "[encoded data removed]",
      "text/plain": [
       "<Figure size 432x288 with 1 Axes>"
      ]
     },
     "metadata": {
      "needs_background": "light"
     },
     "output_type": "display_data"
    }
   ],
   "source": [
    "# plot data as boxplot\n",
    "sns.boxplot(data=data1,x='Genotype',y='Measurement')"
   ]
  },
  {
   "cell_type": "code",
   "execution_count": 20,
   "metadata": {},
   "outputs": [
    {
     "data": {
      "text/plain": [
       "<AxesSubplot:xlabel='Genotype', ylabel='Measurement'>"
      ]
     },
     "execution_count": 20,
     "metadata": {},
     "output_type": "execute_result"
    },
    {
     "data": {
      "image/png": "[encoded data removed]",
      "text/plain": [
       "<Figure size 432x288 with 1 Axes>"
      ]
     },
     "metadata": {
      "needs_background": "light"
     },
     "output_type": "display_data"
    }
   ],
   "source": [
    "# plot data as swarmplot\n",
    "sns.swarmplot(data=data1,x='Genotype',y='Measurement')"
   ]
  },
  {
   "cell_type": "code",
   "execution_count": 21,
   "metadata": {},
   "outputs": [
    {
     "data": {
      "text/plain": [
       "<AxesSubplot:xlabel='Genotype', ylabel='Measurement'>"
      ]
     },
     "execution_count": 21,
     "metadata": {},
     "output_type": "execute_result"
    },
    {
     "data": {
      "image/png": "[encoded data removed]",
      "text/plain": [
       "<Figure size 432x288 with 1 Axes>"
      ]
     },
     "metadata": {
      "needs_background": "light"
     },
     "output_type": "display_data"
    }
   ],
   "source": [
    "# plot data as violin-plot\n",
    "sns.violinplot(data=data1,x='Genotype',y='Measurement')"
   ]
  },
  {
   "cell_type": "code",
   "execution_count": 22,
   "metadata": {},
   "outputs": [
    {
     "data": {
      "image/png": "[encoded data removed]",
      "text/plain": [
       "<Figure size 432x288 with 2 Axes>"
      ]
     },
     "metadata": {
      "needs_background": "light"
     },
     "output_type": "display_data"
    }
   ],
   "source": [
    "# plot data as stacked histograms\n",
    "\n",
    "#binning\n",
    "number_of_bins = 10\n",
    "min_value = np.floor(data1['Measurement'].min())\n",
    "max_value = np.ceil(data1['Measurement'].max())\n",
    "bins = np.linspace(min_value,max_value,number_of_bins+1)\n",
    "\n",
    "fig,ax=plt.subplots(2,1,sharex=True)\n",
    "ax[0].set_title('Mutant')\n",
    "sns.histplot(data=data1[data1.Genotype=='Mutant'],x='Measurement',ax=ax[0],bins=bins)\n",
    "ax[1].set_title('WT')\n",
    "sns.histplot(data=data1[data1.Genotype=='WT'],x='Measurement',ax=ax[1],bins=bins)\n",
    "plt.tight_layout()"
   ]
  },
  {
   "cell_type": "code",
   "execution_count": 23,
   "metadata": {},
   "outputs": [
    {
     "data": {
      "text/html": [
       "<div>\n",
       "<style scoped>\n",
       "    .dataframe tbody tr th:only-of-type {\n",
       "        vertical-align: middle;\n",
       "    }\n",
       "\n",
       "    .dataframe tbody tr th {\n",
       "        vertical-align: top;\n",
       "    }\n",
       "\n",
       "    .dataframe thead tr th {\n",
       "        text-align: left;\n",
       "    }\n",
       "\n",
       "    .dataframe thead tr:last-of-type th {\n",
       "        text-align: right;\n",
       "    }\n",
       "</style>\n",
       "<table border=\"1\" class=\"dataframe\">\n",
       "  <thead>\n",
       "    <tr>\n",
       "      <th></th>\n",
       "      <th colspan=\"5\" halign=\"left\">Measurement</th>\n",
       "    </tr>\n",
       "    <tr>\n",
       "      <th></th>\n",
       "      <th>count</th>\n",
       "      <th>mean</th>\n",
       "      <th>median</th>\n",
       "      <th>std</th>\n",
       "      <th>var</th>\n",
       "    </tr>\n",
       "    <tr>\n",
       "      <th>Genotype</th>\n",
       "      <th></th>\n",
       "      <th></th>\n",
       "      <th></th>\n",
       "      <th></th>\n",
       "      <th></th>\n",
       "    </tr>\n",
       "  </thead>\n",
       "  <tbody>\n",
       "    <tr>\n",
       "      <th>Mutant</th>\n",
       "      <td>23</td>\n",
       "      <td>20.090435</td>\n",
       "      <td>20.5</td>\n",
       "      <td>10.962370</td>\n",
       "      <td>120.173559</td>\n",
       "    </tr>\n",
       "    <tr>\n",
       "      <th>WT</th>\n",
       "      <td>17</td>\n",
       "      <td>11.441176</td>\n",
       "      <td>12.0</td>\n",
       "      <td>3.570199</td>\n",
       "      <td>12.746324</td>\n",
       "    </tr>\n",
       "  </tbody>\n",
       "</table>\n",
       "</div>"
      ],
      "text/plain": [
       "         Measurement                                         \n",
       "               count       mean median        std         var\n",
       "Genotype                                                     \n",
       "Mutant            23  20.090435   20.5  10.962370  120.173559\n",
       "WT                17  11.441176   12.0   3.570199   12.746324"
      ]
     },
     "execution_count": 23,
     "metadata": {},
     "output_type": "execute_result"
    }
   ],
   "source": [
    "#summary statistics, stratified by genotype\n",
    "data1.groupby('Genotype').agg(['count','mean','median','std','var'])"
   ]
  },
  {
   "cell_type": "markdown",
   "metadata": {},
   "source": [
    "The boxplot function by default makes a boxplot for this kind of data. From the boxplot you can tell that the variances are somewhat different between genotypes. The histplot function makes histograms. The stacked histograms give a sense for the shapes of each distribution. Although neither looks perfectly normal, neither is strongly skewed. \n",
    "\n",
    "The groupby method helps us organize our summary statistics for each genotype. \n",
    "\n",
    "The median and mean values for each genotype are very similar, confirming that the distributions are not highly skewed. From this information, we will say that the data have met the t-test assumption of normally distributed responses in each treatment. What about equal variances between treatments? The variances are an order of magnitude different, which violates the assumption of the t-test.\n",
    "\n",
    "Instead of a Student's t-test, we can run a Welch's t-test which assumes normality but does not assume equal variances."
   ]
  },
  {
   "cell_type": "code",
   "execution_count": 24,
   "metadata": {},
   "outputs": [
    {
     "name": "stdout",
     "output_type": "stream",
     "text": [
      "\n",
      "Warning: the two group variance are not equal. Rerun the test with evar=False\n",
      "\n",
      "\n",
      "Two sample t-test with unequal variance (Welch's t-test)\n",
      "\n",
      "------------------  ------------\n",
      "Mean diff            8.64926\n",
      "t                    3.53851\n",
      "Std Error            2.44432\n",
      "df                  27.975\n",
      "P-value (one-tail)   0.000713656\n",
      "P-value (two-tail)   0.00142731\n",
      "Lower 95.0%          3.64209\n",
      "Upper 95.0%         13.6564\n",
      "------------------  ------------\n",
      "\n",
      "Parameter estimates\n",
      "\n",
      "Level      Number     Mean    Std Dev    Std Error    Lower 95.0%    Upper 95.0%\n",
      "-------  --------  -------  ---------  -----------  -------------  -------------\n",
      "Mutant         23  20.0904    10.9624     2.28581        15.35           24.8309\n",
      "WT             17  11.4412     3.5702     0.865901        9.60555        13.2768\n",
      "\n"
     ]
    }
   ],
   "source": [
    "# Here we use the bioinfokit library to calculate Welch's t-test on data \n",
    "res = stat()\n",
    "res.ttest(df=data1,xfac='Genotype',res='Measurement',evar=False,test_type=2)\n",
    "print(res.summary)"
   ]
  },
  {
   "cell_type": "markdown",
   "metadata": {},
   "source": [
    "To know more about how to use a function use help():"
   ]
  },
  {
   "cell_type": "code",
   "execution_count": 25,
   "metadata": {},
   "outputs": [
    {
     "name": "stdout",
     "output_type": "stream",
     "text": [
      "Help on method ttest in module bioinfokit.analys:\n",
      "\n",
      "ttest(df='dataframe', xfac=None, res=None, evar=True, alpha=0.05, test_type=None, mu=None) method of bioinfokit.analys.stat instance\n",
      "\n"
     ]
    }
   ],
   "source": [
    "help(res.ttest)"
   ]
  },
  {
   "cell_type": "code",
   "execution_count": 26,
   "metadata": {},
   "outputs": [
    {
     "name": "stdout",
     "output_type": "stream",
     "text": [
      "Ttest_indResult(statistic=-3.5385069236585465, pvalue=0.001427311775263035)\n"
     ]
    }
   ],
   "source": [
    "#Alternatively, we can use scipy library to calculate T test\n",
    "\n",
    "#extract measurement data from WT records\n",
    "data_wt = data1[data1.Genotype=='WT']['Measurement'].values\n",
    "\n",
    "#extract measurement data from mutant records\n",
    "data_mutant = data1[data1.Genotype=='Mutant']['Measurement'].values\n",
    "\n",
    "# run Welch's t-test on data, setting alpha=0.05\n",
    "test_result = st.ttest_ind(data_wt,data_mutant,equal_var=False,alternative='two-sided')\n",
    "print(test_result)"
   ]
  },
  {
   "cell_type": "markdown",
   "metadata": {},
   "source": [
    "Our p-value is less than our alpha value of 0.05 so we reject the null hypothesis that genotype has no effect on our measured response. When reporting this result in a paper it is best to include t, df, and p-value. Here is what that might look like:\n",
    "\n",
    "The mutant had significantly different measurements than wild type (Welch's t(2,0.05) = -3.57, df = 27.9, p-value < 0.0015).\n",
    "\n",
    "The numbers in parentheses next to the t are 2 for a two-sided test (i.e. allowing the effect of the mutant to both increase or decrease the measurement) and 0.05 for the alpha value.\n"
   ]
  },
  {
   "cell_type": "markdown",
   "metadata": {},
   "source": [
    "# Example 3: Logistic regression to predict Ovarian Reserve"
   ]
  },
  {
   "cell_type": "markdown",
   "metadata": {},
   "source": [
    "Data from: Kopeika et al. (2019), Ovarian reserve in women with sickle cell\n",
    "disease, Plos ONE\n",
    "\n",
    "In this study the authors show that women of reproductive age with sickle cell disease (SCD, Anemia Flaciforme)  are more likely to\n",
    "have a low ovarian reserve at a younger age in comparison with patients with no\n",
    "haemoglobinopathy.\n"
   ]
  },
  {
   "cell_type": "code",
   "execution_count": 27,
   "metadata": {},
   "outputs": [],
   "source": [
    "#data_scd = pd.read_excel('../data/pone.0213024.s001.xlsx',sheet_name='SCD')\n",
    "#data_scd['SCD']=1\n",
    "#data_nscd = pd.read_excel('../data/pone.0213024.s001.xlsx',sheet_name='Control_non SCD')\n",
    "#data_nscd['SCD']=0\n",
    "#data_nscd.rename(columns={'AMH Reults':'AMH','smoking(no=0; yes=1; not known=2)':'Smoking'},inplace=True)\n",
    "#data_nscd.loc[data_nscd.Smoking==2,'Smoking']= 0\n",
    "#data = pd.concat([data_scd,data_nscd])\n",
    "#data['LOW_AMH'] = data['AMH'] < 5\n",
    "#data[['Age','AMH','SCD','Smoking','LOW_AMH']].to_excel('../data/dataset_amh.xlsx',index=False)\n",
    "\n",
    "data = pd.read_excel('../data/dataset_amh.xlsx')"
   ]
  },
  {
   "cell_type": "code",
   "execution_count": 28,
   "metadata": {},
   "outputs": [
    {
     "data": {
      "text/html": [
       "<div>\n",
       "<style scoped>\n",
       "    .dataframe tbody tr th:only-of-type {\n",
       "        vertical-align: middle;\n",
       "    }\n",
       "\n",
       "    .dataframe tbody tr th {\n",
       "        vertical-align: top;\n",
       "    }\n",
       "\n",
       "    .dataframe thead th {\n",
       "        text-align: right;\n",
       "    }\n",
       "</style>\n",
       "<table border=\"1\" class=\"dataframe\">\n",
       "  <thead>\n",
       "    <tr style=\"text-align: right;\">\n",
       "      <th></th>\n",
       "      <th>Age</th>\n",
       "      <th>AMH</th>\n",
       "      <th>SCD</th>\n",
       "      <th>Smoking</th>\n",
       "      <th>LOW_AMH</th>\n",
       "    </tr>\n",
       "  </thead>\n",
       "  <tbody>\n",
       "    <tr>\n",
       "      <th>0</th>\n",
       "      <td>25</td>\n",
       "      <td>2.3</td>\n",
       "      <td>1</td>\n",
       "      <td>0</td>\n",
       "      <td>True</td>\n",
       "    </tr>\n",
       "    <tr>\n",
       "      <th>1</th>\n",
       "      <td>26</td>\n",
       "      <td>16.9</td>\n",
       "      <td>1</td>\n",
       "      <td>0</td>\n",
       "      <td>False</td>\n",
       "    </tr>\n",
       "    <tr>\n",
       "      <th>2</th>\n",
       "      <td>26</td>\n",
       "      <td>16.4</td>\n",
       "      <td>1</td>\n",
       "      <td>0</td>\n",
       "      <td>False</td>\n",
       "    </tr>\n",
       "    <tr>\n",
       "      <th>3</th>\n",
       "      <td>27</td>\n",
       "      <td>12.1</td>\n",
       "      <td>1</td>\n",
       "      <td>0</td>\n",
       "      <td>False</td>\n",
       "    </tr>\n",
       "    <tr>\n",
       "      <th>4</th>\n",
       "      <td>27</td>\n",
       "      <td>9.6</td>\n",
       "      <td>1</td>\n",
       "      <td>0</td>\n",
       "      <td>False</td>\n",
       "    </tr>\n",
       "  </tbody>\n",
       "</table>\n",
       "</div>"
      ],
      "text/plain": [
       "   Age   AMH  SCD  Smoking  LOW_AMH\n",
       "0   25   2.3    1        0     True\n",
       "1   26  16.9    1        0    False\n",
       "2   26  16.4    1        0    False\n",
       "3   27  12.1    1        0    False\n",
       "4   27   9.6    1        0    False"
      ]
     },
     "execution_count": 28,
     "metadata": {},
     "output_type": "execute_result"
    }
   ],
   "source": [
    "#show the first rows of data\n",
    "data.head()"
   ]
  },
  {
   "cell_type": "markdown",
   "metadata": {},
   "source": [
    "Now we have a dependent variable (Low AMH) and three independent variables (SCD, Smoking Status & Age).\n",
    "\n",
    "The biological hypothesis is that SCD affects AMH levels. We include Age and Smoking status as so called covariates, or 'nuisance' treatment variable. Our statistical null hypotheses is that the frequency of Low AMH is the same independently of the SCD.\n",
    "\n",
    "Since our response variable is a binary categorical variable, a possible type of regression is the **logistic** regression. The logistic regression model will predict the probability of low AMH depending on SCD, the age and the smoking status. We can also test the hypotheses using logistic regression and a series of Wald tests. \n",
    "\n",
    "This approach makes few assumptions about the structure of the data and the function that we will use will warn us if our data are not meeting those assumptions.\n",
    "\n",
    "More information on performing logistic regression in python can be found here:\n",
    "- https://realpython.com/logistic-regression-python/\n",
    "- https://www.reneshbedre.com/blog/logistic-regression.html"
   ]
  },
  {
   "cell_type": "code",
   "execution_count": 29,
   "metadata": {},
   "outputs": [
    {
     "data": {
      "text/html": [
       "<div>\n",
       "<style scoped>\n",
       "    .dataframe tbody tr th:only-of-type {\n",
       "        vertical-align: middle;\n",
       "    }\n",
       "\n",
       "    .dataframe tbody tr th {\n",
       "        vertical-align: top;\n",
       "    }\n",
       "\n",
       "    .dataframe thead th {\n",
       "        text-align: right;\n",
       "    }\n",
       "</style>\n",
       "<table border=\"1\" class=\"dataframe\">\n",
       "  <thead>\n",
       "    <tr style=\"text-align: right;\">\n",
       "      <th></th>\n",
       "      <th>Age</th>\n",
       "      <th>Smoking</th>\n",
       "      <th>AMH</th>\n",
       "    </tr>\n",
       "    <tr>\n",
       "      <th>SCD</th>\n",
       "      <th></th>\n",
       "      <th></th>\n",
       "      <th></th>\n",
       "    </tr>\n",
       "  </thead>\n",
       "  <tbody>\n",
       "    <tr>\n",
       "      <th>0</th>\n",
       "      <td>35.821918</td>\n",
       "      <td>0.054795</td>\n",
       "      <td>13.391781</td>\n",
       "    </tr>\n",
       "    <tr>\n",
       "      <th>1</th>\n",
       "      <td>35.060000</td>\n",
       "      <td>0.020000</td>\n",
       "      <td>7.598000</td>\n",
       "    </tr>\n",
       "  </tbody>\n",
       "</table>\n",
       "</div>"
      ],
      "text/plain": [
       "           Age   Smoking        AMH\n",
       "SCD                                \n",
       "0    35.821918  0.054795  13.391781\n",
       "1    35.060000  0.020000   7.598000"
      ]
     },
     "execution_count": 29,
     "metadata": {},
     "output_type": "execute_result"
    }
   ],
   "source": [
    "data.groupby('SCD')[['Age','Smoking','AMH']].mean()"
   ]
  },
  {
   "cell_type": "code",
   "execution_count": 30,
   "metadata": {},
   "outputs": [
    {
     "data": {
      "text/plain": [
       "<AxesSubplot:xlabel='SCD', ylabel='AMH'>"
      ]
     },
     "execution_count": 30,
     "metadata": {},
     "output_type": "execute_result"
    },
    {
     "data": {
      "image/png": "[encoded data removed]",
      "text/plain": [
       "<Figure size 432x288 with 1 Axes>"
      ]
     },
     "metadata": {
      "needs_background": "light"
     },
     "output_type": "display_data"
    }
   ],
   "source": [
    "# plot AMH data as boxplot\n",
    "sns.boxplot(data=data,x='SCD',y='AMH')"
   ]
  },
  {
   "cell_type": "code",
   "execution_count": 31,
   "metadata": {},
   "outputs": [
    {
     "data": {
      "text/plain": [
       "<AxesSubplot:xlabel='SCD', ylabel='Age'>"
      ]
     },
     "execution_count": 31,
     "metadata": {},
     "output_type": "execute_result"
    },
    {
     "data": {
      "image/png": "[encoded data removed]",
      "text/plain": [
       "<Figure size 432x288 with 1 Axes>"
      ]
     },
     "metadata": {
      "needs_background": "light"
     },
     "output_type": "display_data"
    }
   ],
   "source": [
    "# plot Age data as boxplot\n",
    "sns.boxplot(data=data,x='SCD',y='Age')"
   ]
  },
  {
   "cell_type": "code",
   "execution_count": 32,
   "metadata": {},
   "outputs": [
    {
     "data": {
      "image/png": "[encoded data removed]",
      "text/plain": [
       "<Figure size 432x288 with 2 Axes>"
      ]
     },
     "metadata": {
      "needs_background": "light"
     },
     "output_type": "display_data"
    }
   ],
   "source": [
    "#binning\n",
    "num_bins= 15\n",
    "min_value = data['AMH'].min()\n",
    "max_value = data['AMH'].max()\n",
    "\n",
    "bins = np.linspace(min_value,max_value,num_bins+1)\n",
    "\n",
    "# plot data as stacked histograms\n",
    "fig,ax=plt.subplots(2,1,sharex=True)\n",
    "ax[0].set_title('SCD')\n",
    "sns.histplot(data=data[data.SCD==1],x='AMH',ax=ax[0],bins=bins)\n",
    "ax[1].set_title('not SCD')\n",
    "sns.histplot(data=data[data.SCD==0],x='AMH',ax=ax[1],bins=bins)\n",
    "plt.tight_layout()"
   ]
  },
  {
   "cell_type": "code",
   "execution_count": 33,
   "metadata": {},
   "outputs": [
    {
     "data": {
      "text/html": [
       "<div>\n",
       "<style scoped>\n",
       "    .dataframe tbody tr th:only-of-type {\n",
       "        vertical-align: middle;\n",
       "    }\n",
       "\n",
       "    .dataframe tbody tr th {\n",
       "        vertical-align: top;\n",
       "    }\n",
       "\n",
       "    .dataframe thead tr th {\n",
       "        text-align: left;\n",
       "    }\n",
       "\n",
       "    .dataframe thead tr:last-of-type th {\n",
       "        text-align: right;\n",
       "    }\n",
       "</style>\n",
       "<table border=\"1\" class=\"dataframe\">\n",
       "  <thead>\n",
       "    <tr>\n",
       "      <th></th>\n",
       "      <th colspan=\"8\" halign=\"left\">AMH</th>\n",
       "    </tr>\n",
       "    <tr>\n",
       "      <th></th>\n",
       "      <th>count</th>\n",
       "      <th>mean</th>\n",
       "      <th>std</th>\n",
       "      <th>min</th>\n",
       "      <th>25%</th>\n",
       "      <th>50%</th>\n",
       "      <th>75%</th>\n",
       "      <th>max</th>\n",
       "    </tr>\n",
       "    <tr>\n",
       "      <th>SCD</th>\n",
       "      <th></th>\n",
       "      <th></th>\n",
       "      <th></th>\n",
       "      <th></th>\n",
       "      <th></th>\n",
       "      <th></th>\n",
       "      <th></th>\n",
       "      <th></th>\n",
       "    </tr>\n",
       "  </thead>\n",
       "  <tbody>\n",
       "    <tr>\n",
       "      <th>0</th>\n",
       "      <td>73.0</td>\n",
       "      <td>13.391781</td>\n",
       "      <td>14.374251</td>\n",
       "      <td>1.1</td>\n",
       "      <td>2.800</td>\n",
       "      <td>8.4</td>\n",
       "      <td>17.60</td>\n",
       "      <td>66.5</td>\n",
       "    </tr>\n",
       "    <tr>\n",
       "      <th>1</th>\n",
       "      <td>50.0</td>\n",
       "      <td>7.598000</td>\n",
       "      <td>7.826577</td>\n",
       "      <td>0.3</td>\n",
       "      <td>1.125</td>\n",
       "      <td>4.9</td>\n",
       "      <td>10.35</td>\n",
       "      <td>38.7</td>\n",
       "    </tr>\n",
       "  </tbody>\n",
       "</table>\n",
       "</div>"
      ],
      "text/plain": [
       "      AMH                                                    \n",
       "    count       mean        std  min    25%  50%    75%   max\n",
       "SCD                                                          \n",
       "0    73.0  13.391781  14.374251  1.1  2.800  8.4  17.60  66.5\n",
       "1    50.0   7.598000   7.826577  0.3  1.125  4.9  10.35  38.7"
      ]
     },
     "execution_count": 33,
     "metadata": {},
     "output_type": "execute_result"
    }
   ],
   "source": [
    "data.groupby('SCD')[['AMH']].describe()"
   ]
  },
  {
   "cell_type": "code",
   "execution_count": 34,
   "metadata": {},
   "outputs": [
    {
     "data": {
      "text/plain": [
       "Ttest_indResult(statistic=2.8769983329139817, pvalue=0.004780325195641798)"
      ]
     },
     "execution_count": 34,
     "metadata": {},
     "output_type": "execute_result"
    }
   ],
   "source": [
    "# run Welch's t-test on data, setting alpha=0.05\n",
    "st.ttest_ind(data[data.SCD==0]['AMH'],data[data.SCD==1]['AMH'],equal_var=False,alternative='two-sided')"
   ]
  },
  {
   "cell_type": "code",
   "execution_count": 35,
   "metadata": {},
   "outputs": [],
   "source": [
    "# feature engineering:\n",
    "\n",
    "# age class\n",
    "def age_class(x):\n",
    "    if x<=30:\n",
    "        return '<30'\n",
    "    elif x<=35:\n",
    "        return '31-35'\n",
    "    elif x<=40:\n",
    "        return '36-40'\n",
    "    else:\n",
    "        return '>41'\n",
    "data['Age class'] = data['Age'].apply(age_class)\n"
   ]
  },
  {
   "cell_type": "code",
   "execution_count": 36,
   "metadata": {},
   "outputs": [],
   "source": [
    "amh_by_ageclass = data.groupby(['Age class','SCD'])['LOW_AMH'].mean().reset_index()"
   ]
  },
  {
   "cell_type": "code",
   "execution_count": 37,
   "metadata": {},
   "outputs": [
    {
     "data": {
      "text/plain": [
       "<AxesSubplot:xlabel='Age class', ylabel='LOW_AMH'>"
      ]
     },
     "execution_count": 37,
     "metadata": {},
     "output_type": "execute_result"
    },
    {
     "data": {
      "image/png": "[encoded data removed]",
      "text/plain": [
       "<Figure size 432x288 with 1 Axes>"
      ]
     },
     "metadata": {
      "needs_background": "light"
     },
     "output_type": "display_data"
    }
   ],
   "source": [
    "sns.barplot(data=amh_by_ageclass,x='Age class',hue='SCD',y='LOW_AMH',order=['<30','31-35','36-40','>41'])"
   ]
  },
  {
   "cell_type": "code",
   "execution_count": 38,
   "metadata": {},
   "outputs": [],
   "source": [
    "# import a few more modules to perform logistic regression\n",
    "from sklearn import linear_model\n",
    "from sklearn.metrics import classification_report, confusion_matrix\n",
    "import statsmodels.api as sm "
   ]
  },
  {
   "cell_type": "code",
   "execution_count": 39,
   "metadata": {},
   "outputs": [
    {
     "name": "stdout",
     "output_type": "stream",
     "text": [
      "Optimization terminated successfully.\n",
      "         Current function value: 0.554382\n",
      "         Iterations 6\n",
      "                           Logit Regression Results                           \n",
      "==============================================================================\n",
      "Dep. Variable:                LOW_AMH   No. Observations:                  123\n",
      "Model:                          Logit   Df Residuals:                      119\n",
      "Method:                           MLE   Df Model:                            3\n",
      "Date:                Thu, 26 May 2022   Pseudo R-squ.:                  0.1861\n",
      "Time:                        16:40:21   Log-Likelihood:                -68.189\n",
      "converged:                       True   LL-Null:                       -83.784\n",
      "Covariance Type:            nonrobust   LLR p-value:                 7.754e-07\n",
      "==============================================================================\n",
      "                 coef    std err          z      P>|z|      [0.025      0.975]\n",
      "------------------------------------------------------------------------------\n",
      "Age            0.2153      0.047      4.617      0.000       0.124       0.307\n",
      "SCD            0.9944      0.440      2.258      0.024       0.131       1.858\n",
      "Smoking       -0.5369      1.116     -0.481      0.630      -2.724       1.650\n",
      "Constant      -8.4224      1.745     -4.827      0.000     -11.842      -5.003\n",
      "==============================================================================\n"
     ]
    }
   ],
   "source": [
    "# logistic regression model\n",
    "# get independent variables\n",
    "data['Constant'] = 1\n",
    "X = data[['Age','SCD','Smoking','Constant']]\n",
    "# to get intercept -- this is optional\n",
    "# X = sm.add_constant(X)\n",
    "# get response variables\n",
    "Y = data[['LOW_AMH']]\n",
    "# fit the model with maximum likelihood function\n",
    "model = sm.Logit(endog=Y, exog=X).fit()\n",
    "\n",
    "print(model.summary())"
   ]
  },
  {
   "cell_type": "markdown",
   "metadata": {},
   "source": [
    "The section of the function output that we are most interested in is the coefficients. The line that starts with \"SCD\" tells us about the effect of SCD. The magnitude of the effect of being affected by SCD is 0.99. This coefficient is calculated as the natural log of the odds ratio. A Wald test was run on this coefficient to determine if it is a significant departure from what would be expected if there was no effect of genotype. The Wald test is based on z-scores. Dividing the coefficient by the standard error results in a z-score of 2.26 which has a p-value < 0.025. So SCD has a significant effect on the probability of low AMH.\n",
    "\n",
    "There were significant effects also for the Age (p<1e-3). By including it as a variable in the model we were able to estimate and therefore control for significant variation in the AMH across different age. Controling for the age effect allowed us to more accurately estimate the effect and significance of genotype.\n",
    "\n",
    "No significant effect is detected for smoking status (p=0.63)"
   ]
  },
  {
   "cell_type": "code",
   "execution_count": 40,
   "metadata": {},
   "outputs": [
    {
     "data": {
      "text/plain": [
       "2.703160626733573"
      ]
     },
     "execution_count": 40,
     "metadata": {},
     "output_type": "execute_result"
    }
   ],
   "source": [
    "# Odds Ratio = (Low AMH SCD / High AMH SCD) / (Low AMH notSCD / High AMH notSCD)\n",
    "np.exp(model.params['SCD'])"
   ]
  },
  {
   "cell_type": "markdown",
   "metadata": {},
   "source": [
    "# Example 4: Student's t-test on log transformed responses\n",
    "In this second example we are working with a very similar dataset as example 2. The dataset has the same types of variables and we are interested in the same biological hypothesis. The difference comes when we inspect the data to see if it meets the assumptions of a Student's t-test."
   ]
  },
  {
   "cell_type": "code",
   "execution_count": 41,
   "metadata": {},
   "outputs": [
    {
     "name": "stderr",
     "output_type": "stream",
     "text": [
      "/home/matteo/miniconda2/lib/python3.7/site-packages/openpyxl/worksheet/_reader.py:312: UserWarning: Unknown extension is not supported and will be removed\n",
      "  warn(msg)\n"
     ]
    },
    {
     "data": {
      "text/html": [
       "<div>\n",
       "<style scoped>\n",
       "    .dataframe tbody tr th:only-of-type {\n",
       "        vertical-align: middle;\n",
       "    }\n",
       "\n",
       "    .dataframe tbody tr th {\n",
       "        vertical-align: top;\n",
       "    }\n",
       "\n",
       "    .dataframe thead th {\n",
       "        text-align: right;\n",
       "    }\n",
       "</style>\n",
       "<table border=\"1\" class=\"dataframe\">\n",
       "  <thead>\n",
       "    <tr style=\"text-align: right;\">\n",
       "      <th></th>\n",
       "      <th>Genotype</th>\n",
       "      <th>Measurement</th>\n",
       "    </tr>\n",
       "  </thead>\n",
       "  <tbody>\n",
       "    <tr>\n",
       "      <th>0</th>\n",
       "      <td>WT</td>\n",
       "      <td>34.510</td>\n",
       "    </tr>\n",
       "    <tr>\n",
       "      <th>1</th>\n",
       "      <td>WT</td>\n",
       "      <td>26.355</td>\n",
       "    </tr>\n",
       "    <tr>\n",
       "      <th>2</th>\n",
       "      <td>WT</td>\n",
       "      <td>22.285</td>\n",
       "    </tr>\n",
       "    <tr>\n",
       "      <th>3</th>\n",
       "      <td>WT</td>\n",
       "      <td>30.940</td>\n",
       "    </tr>\n",
       "    <tr>\n",
       "      <th>4</th>\n",
       "      <td>WT</td>\n",
       "      <td>26.160</td>\n",
       "    </tr>\n",
       "  </tbody>\n",
       "</table>\n",
       "</div>"
      ],
      "text/plain": [
       "  Genotype  Measurement\n",
       "0       WT       34.510\n",
       "1       WT       26.355\n",
       "2       WT       22.285\n",
       "3       WT       30.940\n",
       "4       WT       26.160"
      ]
     },
     "execution_count": 41,
     "metadata": {},
     "output_type": "execute_result"
    }
   ],
   "source": [
    "# read second data file into data frame object\n",
    "data2 = pd.read_excel('../data/dataset2.xlsx')\n",
    "# look at the first several rows of data\n",
    "data2.head(5)\n"
   ]
  },
  {
   "cell_type": "code",
   "execution_count": 42,
   "metadata": {},
   "outputs": [
    {
     "data": {
      "text/plain": [
       "(63, 2)"
      ]
     },
     "execution_count": 42,
     "metadata": {},
     "output_type": "execute_result"
    }
   ],
   "source": [
    "data2.shape"
   ]
  },
  {
   "cell_type": "code",
   "execution_count": 43,
   "metadata": {},
   "outputs": [
    {
     "data": {
      "text/html": [
       "<div>\n",
       "<style scoped>\n",
       "    .dataframe tbody tr th:only-of-type {\n",
       "        vertical-align: middle;\n",
       "    }\n",
       "\n",
       "    .dataframe tbody tr th {\n",
       "        vertical-align: top;\n",
       "    }\n",
       "\n",
       "    .dataframe thead th {\n",
       "        text-align: right;\n",
       "    }\n",
       "</style>\n",
       "<table border=\"1\" class=\"dataframe\">\n",
       "  <thead>\n",
       "    <tr style=\"text-align: right;\">\n",
       "      <th></th>\n",
       "      <th>Measurement</th>\n",
       "    </tr>\n",
       "  </thead>\n",
       "  <tbody>\n",
       "    <tr>\n",
       "      <th>count</th>\n",
       "      <td>63.000000</td>\n",
       "    </tr>\n",
       "    <tr>\n",
       "      <th>mean</th>\n",
       "      <td>39.200365</td>\n",
       "    </tr>\n",
       "    <tr>\n",
       "      <th>std</th>\n",
       "      <td>10.499526</td>\n",
       "    </tr>\n",
       "    <tr>\n",
       "      <th>min</th>\n",
       "      <td>22.285000</td>\n",
       "    </tr>\n",
       "    <tr>\n",
       "      <th>25%</th>\n",
       "      <td>30.105000</td>\n",
       "    </tr>\n",
       "    <tr>\n",
       "      <th>50%</th>\n",
       "      <td>39.310000</td>\n",
       "    </tr>\n",
       "    <tr>\n",
       "      <th>75%</th>\n",
       "      <td>45.390000</td>\n",
       "    </tr>\n",
       "    <tr>\n",
       "      <th>max</th>\n",
       "      <td>63.040000</td>\n",
       "    </tr>\n",
       "  </tbody>\n",
       "</table>\n",
       "</div>"
      ],
      "text/plain": [
       "       Measurement\n",
       "count    63.000000\n",
       "mean     39.200365\n",
       "std      10.499526\n",
       "min      22.285000\n",
       "25%      30.105000\n",
       "50%      39.310000\n",
       "75%      45.390000\n",
       "max      63.040000"
      ]
     },
     "execution_count": 43,
     "metadata": {},
     "output_type": "execute_result"
    }
   ],
   "source": [
    "# look at summary information\n",
    "data2.describe()"
   ]
  },
  {
   "cell_type": "code",
   "execution_count": 44,
   "metadata": {},
   "outputs": [
    {
     "data": {
      "text/plain": [
       "<AxesSubplot:xlabel='Genotype', ylabel='Measurement'>"
      ]
     },
     "execution_count": 44,
     "metadata": {},
     "output_type": "execute_result"
    },
    {
     "data": {
      "image/png": "[encoded data removed]",
      "text/plain": [
       "<Figure size 432x288 with 1 Axes>"
      ]
     },
     "metadata": {
      "needs_background": "light"
     },
     "output_type": "display_data"
    }
   ],
   "source": [
    "# plot data as boxplot\n",
    "sns.boxplot(data=data2,x='Genotype',y='Measurement')"
   ]
  },
  {
   "cell_type": "code",
   "execution_count": 45,
   "metadata": {},
   "outputs": [
    {
     "data": {
      "image/png": "[encoded data removed]",
      "text/plain": [
       "<Figure size 432x288 with 2 Axes>"
      ]
     },
     "metadata": {
      "needs_background": "light"
     },
     "output_type": "display_data"
    }
   ],
   "source": [
    "#binning\n",
    "num_bins= 15\n",
    "min_value = data2['Measurement'].min()\n",
    "max_value = data2['Measurement'].max()\n",
    "\n",
    "bins = np.linspace(min_value,max_value,num_bins+1)\n",
    "\n",
    "# plot data as stacked histograms\n",
    "fig,ax=plt.subplots(2,1,sharex=True)\n",
    "ax[0].set_title('Mutant')\n",
    "sns.histplot(data=data2[data2.Genotype=='Mutant'],x='Measurement',ax=ax[0],bins=bins)\n",
    "ax[1].set_title('WT')\n",
    "sns.histplot(data=data2[data2.Genotype=='WT'],x='Measurement',ax=ax[1],bins=bins)\n",
    "plt.tight_layout()"
   ]
  },
  {
   "cell_type": "code",
   "execution_count": 46,
   "metadata": {},
   "outputs": [
    {
     "data": {
      "text/html": [
       "<div>\n",
       "<style scoped>\n",
       "    .dataframe tbody tr th:only-of-type {\n",
       "        vertical-align: middle;\n",
       "    }\n",
       "\n",
       "    .dataframe tbody tr th {\n",
       "        vertical-align: top;\n",
       "    }\n",
       "\n",
       "    .dataframe thead tr th {\n",
       "        text-align: left;\n",
       "    }\n",
       "\n",
       "    .dataframe thead tr:last-of-type th {\n",
       "        text-align: right;\n",
       "    }\n",
       "</style>\n",
       "<table border=\"1\" class=\"dataframe\">\n",
       "  <thead>\n",
       "    <tr>\n",
       "      <th></th>\n",
       "      <th colspan=\"5\" halign=\"left\">Measurement</th>\n",
       "    </tr>\n",
       "    <tr>\n",
       "      <th></th>\n",
       "      <th>count</th>\n",
       "      <th>mean</th>\n",
       "      <th>median</th>\n",
       "      <th>std</th>\n",
       "      <th>var</th>\n",
       "    </tr>\n",
       "    <tr>\n",
       "      <th>Genotype</th>\n",
       "      <th></th>\n",
       "      <th></th>\n",
       "      <th></th>\n",
       "      <th></th>\n",
       "      <th></th>\n",
       "    </tr>\n",
       "  </thead>\n",
       "  <tbody>\n",
       "    <tr>\n",
       "      <th>Mutant</th>\n",
       "      <td>34</td>\n",
       "      <td>47.064059</td>\n",
       "      <td>44.7825</td>\n",
       "      <td>7.304294</td>\n",
       "      <td>53.352706</td>\n",
       "    </tr>\n",
       "    <tr>\n",
       "      <th>WT</th>\n",
       "      <td>29</td>\n",
       "      <td>29.980862</td>\n",
       "      <td>29.8450</td>\n",
       "      <td>4.254345</td>\n",
       "      <td>18.099452</td>\n",
       "    </tr>\n",
       "  </tbody>\n",
       "</table>\n",
       "</div>"
      ],
      "text/plain": [
       "         Measurement                                         \n",
       "               count       mean   median       std        var\n",
       "Genotype                                                     \n",
       "Mutant            34  47.064059  44.7825  7.304294  53.352706\n",
       "WT                29  29.980862  29.8450  4.254345  18.099452"
      ]
     },
     "execution_count": 46,
     "metadata": {},
     "output_type": "execute_result"
    }
   ],
   "source": [
    "#summary statistics, stratified by genotype\n",
    "data2.groupby('Genotype').agg(['count','mean','median','std','var'])"
   ]
  },
  {
   "cell_type": "markdown",
   "metadata": {},
   "source": [
    "With regard to normality, the measurement responses appear to be somewhat skewed to the right. The median values are less than the mean values, consistent with a slight skew. This might be a violation of the assumption of normality. The responses for the mutant also appear to be slightly bimodal. Student's t-test is robust to small deviations from normality so it is unclear if these departures from normality will be a problem.\n",
    "\n",
    "The variances are just about three-fold different. Student's t-test is robust to this level of difference in variance but only when the design is balanced. The sample sizes are somewhat different so again we are close to violating this assumption.\n",
    "\n",
    "The skew in the response is the more serious violation because if it cannot be corrected then we will need to use a non-parametric test with lower power. Right-skewed distributions can sometimes be corrected using a natural log. Note that the function np.log() in python defaults to the natural log, which is commonly written as ln."
   ]
  },
  {
   "cell_type": "code",
   "execution_count": 47,
   "metadata": {},
   "outputs": [],
   "source": [
    "# ln transformation\n",
    "data2['LnMeasurement'] = np.log(data2['Measurement'])\n"
   ]
  },
  {
   "cell_type": "code",
   "execution_count": 48,
   "metadata": {},
   "outputs": [
    {
     "data": {
      "image/png": "[encoded data removed]",
      "text/plain": [
       "<Figure size 432x288 with 2 Axes>"
      ]
     },
     "metadata": {
      "needs_background": "light"
     },
     "output_type": "display_data"
    }
   ],
   "source": [
    "#binning\n",
    "min_value = data2['LnMeasurement'].min()\n",
    "max_value = data2['LnMeasurement'].max()\n",
    "bins = np.linspace(min_value,max_value,num_bins+1)\n",
    "\n",
    "# plot data as stacked histograms\n",
    "fig,ax=plt.subplots(2,1,sharex=True)\n",
    "ax[0].set_title('Mutant')\n",
    "sns.histplot(data=data2[data2.Genotype=='Mutant'],x='LnMeasurement',ax=ax[0],bins=bins)\n",
    "ax[1].set_title('WT')\n",
    "sns.histplot(data=data2[data2.Genotype=='WT'],x='LnMeasurement',ax=ax[1],bins=bins)\n",
    "plt.tight_layout()"
   ]
  },
  {
   "cell_type": "code",
   "execution_count": 49,
   "metadata": {},
   "outputs": [
    {
     "data": {
      "text/html": [
       "<div>\n",
       "<style scoped>\n",
       "    .dataframe tbody tr th:only-of-type {\n",
       "        vertical-align: middle;\n",
       "    }\n",
       "\n",
       "    .dataframe tbody tr th {\n",
       "        vertical-align: top;\n",
       "    }\n",
       "\n",
       "    .dataframe thead th {\n",
       "        text-align: right;\n",
       "    }\n",
       "</style>\n",
       "<table border=\"1\" class=\"dataframe\">\n",
       "  <thead>\n",
       "    <tr style=\"text-align: right;\">\n",
       "      <th></th>\n",
       "      <th>count</th>\n",
       "      <th>mean</th>\n",
       "      <th>median</th>\n",
       "      <th>std</th>\n",
       "      <th>var</th>\n",
       "    </tr>\n",
       "    <tr>\n",
       "      <th>Genotype</th>\n",
       "      <th></th>\n",
       "      <th></th>\n",
       "      <th></th>\n",
       "      <th></th>\n",
       "      <th></th>\n",
       "    </tr>\n",
       "  </thead>\n",
       "  <tbody>\n",
       "    <tr>\n",
       "      <th>Mutant</th>\n",
       "      <td>34</td>\n",
       "      <td>3.840482</td>\n",
       "      <td>3.801812</td>\n",
       "      <td>0.148693</td>\n",
       "      <td>0.02211</td>\n",
       "    </tr>\n",
       "    <tr>\n",
       "      <th>WT</th>\n",
       "      <td>29</td>\n",
       "      <td>3.391070</td>\n",
       "      <td>3.396017</td>\n",
       "      <td>0.139534</td>\n",
       "      <td>0.01947</td>\n",
       "    </tr>\n",
       "  </tbody>\n",
       "</table>\n",
       "</div>"
      ],
      "text/plain": [
       "          count      mean    median       std      var\n",
       "Genotype                                              \n",
       "Mutant       34  3.840482  3.801812  0.148693  0.02211\n",
       "WT           29  3.391070  3.396017  0.139534  0.01947"
      ]
     },
     "execution_count": 49,
     "metadata": {},
     "output_type": "execute_result"
    }
   ],
   "source": [
    "#summary statistics, stratified by genotype\n",
    "data2.groupby('Genotype')['LnMeasurement'].agg(['count','mean','median','std','var'])"
   ]
  },
  {
   "cell_type": "markdown",
   "metadata": {},
   "source": [
    "The transformation improved the shape of the distributions to be more normal in appearance. The natural log transformation also resulted in the variances being very similar between genotypes. The dataset with natural log transformations of the measurement responses meet the assumptions of Student's t-test."
   ]
  },
  {
   "cell_type": "code",
   "execution_count": 50,
   "metadata": {},
   "outputs": [
    {
     "name": "stdout",
     "output_type": "stream",
     "text": [
      "Ttest_indResult(statistic=-12.361931263431439, pvalue=3.4205271364149156e-18)\n"
     ]
    }
   ],
   "source": [
    "# run t-test on ln transformed data with alpha set to 0.05 and assumption of equal variance\n",
    "data_wt = data2[data2.Genotype=='WT']['LnMeasurement']\n",
    "data_mutant = data2[data2.Genotype=='Mutant']['LnMeasurement']\n",
    "\n",
    "\n",
    "test_result = st.ttest_ind(data_wt,data_mutant,equal_var=False,alternative='two-sided')\n",
    "print(test_result)"
   ]
  },
  {
   "cell_type": "code",
   "execution_count": 51,
   "metadata": {},
   "outputs": [
    {
     "name": "stdout",
     "output_type": "stream",
     "text": [
      "Ttest_indResult(statistic=-11.535024245170304, pvalue=3.132955927762612e-16)\n"
     ]
    }
   ],
   "source": [
    "# run t-test on ln transformed data with alpha set to 0.05 and assumption of equal variance\n",
    "data_wt = data2[data2.Genotype=='WT']['Measurement']\n",
    "data_mutant = data2[data2.Genotype=='Mutant']['Measurement']\n",
    "\n",
    "\n",
    "test_result = st.ttest_ind(data_wt,data_mutant,equal_var=False,alternative='two-sided')\n",
    "print(test_result)"
   ]
  },
  {
   "cell_type": "markdown",
   "metadata": {},
   "source": [
    "The mutant had significantly different measurements than wild type (Student's t(2,0.05) = -12.299, df = 61, p-value < 2.2e-16).\n"
   ]
  },
  {
   "cell_type": "markdown",
   "metadata": {},
   "source": [
    "# Example 5: Logistic regression for categorical response and two treatment variables\n",
    "In the first examples we had a continuous numerical response variable and a single categorical treatment variable. In this example we have a categorical response variable (Phenotype) and two categorical treatment variables (Genotype & Day).\n",
    "\n",
    "Our biological hypothesis is that genotype (disomic vs trisomic) affects the proportion of cells that are ciliated. Data was collected over many days so we include Day as a so called covariates, or 'nuisance' treatment variable. Our statistical null hypotheses are that the proportion of ciliated cells is the same across genotypes and that the proportion of ciliated cells is the same across days.\n",
    "\n",
    "Since our response variable is a binary categorical variable, a possible type of regression is the **logistic** regression. The logistic regression model will predict the probability of being ciliated depending on genotype and day. We can also test the hypotheses using logistic regression and a series of Wald tests. \n",
    "\n",
    "\n",
    "This approach makes few assumptions about the structure of the data and the function that we will use will warn us if our data are not meeting those assumptions.\n",
    "\n",
    "More information on performing logistic regression in python can be found here:\n",
    "- https://realpython.com/logistic-regression-python/\n",
    "- https://www.reneshbedre.com/blog/logistic-regression.html"
   ]
  },
  {
   "cell_type": "code",
   "execution_count": 52,
   "metadata": {},
   "outputs": [],
   "source": [
    "# import a few more modules to perform logistic regression\n",
    "from sklearn import linear_model\n",
    "from sklearn.metrics import classification_report, confusion_matrix\n",
    "import statsmodels.api as sm "
   ]
  },
  {
   "cell_type": "code",
   "execution_count": 53,
   "metadata": {},
   "outputs": [
    {
     "data": {
      "text/html": [
       "<div>\n",
       "<style scoped>\n",
       "    .dataframe tbody tr th:only-of-type {\n",
       "        vertical-align: middle;\n",
       "    }\n",
       "\n",
       "    .dataframe tbody tr th {\n",
       "        vertical-align: top;\n",
       "    }\n",
       "\n",
       "    .dataframe thead th {\n",
       "        text-align: right;\n",
       "    }\n",
       "</style>\n",
       "<table border=\"1\" class=\"dataframe\">\n",
       "  <thead>\n",
       "    <tr style=\"text-align: right;\">\n",
       "      <th></th>\n",
       "      <th>Phenotype</th>\n",
       "      <th>Genotype</th>\n",
       "      <th>Day</th>\n",
       "    </tr>\n",
       "  </thead>\n",
       "  <tbody>\n",
       "    <tr>\n",
       "      <th>0</th>\n",
       "      <td>Ciliated</td>\n",
       "      <td>Disomic</td>\n",
       "      <td>1</td>\n",
       "    </tr>\n",
       "    <tr>\n",
       "      <th>1</th>\n",
       "      <td>Ciliated</td>\n",
       "      <td>Disomic</td>\n",
       "      <td>1</td>\n",
       "    </tr>\n",
       "    <tr>\n",
       "      <th>2</th>\n",
       "      <td>Ciliated</td>\n",
       "      <td>Disomic</td>\n",
       "      <td>1</td>\n",
       "    </tr>\n",
       "    <tr>\n",
       "      <th>3</th>\n",
       "      <td>Ciliated</td>\n",
       "      <td>Disomic</td>\n",
       "      <td>1</td>\n",
       "    </tr>\n",
       "    <tr>\n",
       "      <th>4</th>\n",
       "      <td>Ciliated</td>\n",
       "      <td>Disomic</td>\n",
       "      <td>1</td>\n",
       "    </tr>\n",
       "  </tbody>\n",
       "</table>\n",
       "</div>"
      ],
      "text/plain": [
       "  Phenotype Genotype  Day\n",
       "0  Ciliated  Disomic    1\n",
       "1  Ciliated  Disomic    1\n",
       "2  Ciliated  Disomic    1\n",
       "3  Ciliated  Disomic    1\n",
       "4  Ciliated  Disomic    1"
      ]
     },
     "execution_count": 53,
     "metadata": {},
     "output_type": "execute_result"
    }
   ],
   "source": [
    "# read third data file into data frame object\n",
    "# from Domenico Galati et al 2018, Fig 1 (https://doi.org/10.1016/j.devcel.2018.07.008)\n",
    "data3 = pd.read_excel('../data/dataset3.xlsx')\n",
    "\n",
    "#show first lines\n",
    "data3.head()"
   ]
  },
  {
   "cell_type": "code",
   "execution_count": 54,
   "metadata": {},
   "outputs": [
    {
     "data": {
      "text/plain": [
       "(1058, 3)"
      ]
     },
     "execution_count": 54,
     "metadata": {},
     "output_type": "execute_result"
    }
   ],
   "source": [
    "data3.shape"
   ]
  },
  {
   "cell_type": "code",
   "execution_count": 55,
   "metadata": {},
   "outputs": [
    {
     "data": {
      "text/plain": [
       "Phenotype     Genotype  Day\n",
       "Not Ciliated  Disomic   2      102\n",
       "                        1       96\n",
       "              Trisomic  2       94\n",
       "                        1       83\n",
       "Ciliated      Disomic   1       78\n",
       "Not Ciliated  Trisomic  4       74\n",
       "                        5       72\n",
       "                        3       68\n",
       "Ciliated      Disomic   4       63\n",
       "Not Ciliated  Disomic   3       59\n",
       "                        4       57\n",
       "                        5       57\n",
       "Ciliated      Disomic   5       51\n",
       "                        2       23\n",
       "              Trisomic  5       20\n",
       "                        1       16\n",
       "                        4       14\n",
       "              Disomic   3       13\n",
       "              Trisomic  3       10\n",
       "                        2        8\n",
       "dtype: int64"
      ]
     },
     "execution_count": 55,
     "metadata": {},
     "output_type": "execute_result"
    }
   ],
   "source": [
    "data3.value_counts()"
   ]
  },
  {
   "cell_type": "markdown",
   "metadata": {},
   "source": [
    "We will now run the logistic regression function on the data. We need to tell the function function which variable is the response variable and which variables are treatment variables. \n",
    "\n",
    "Before that, we have to encode the categorical varibles as binary numeric variables"
   ]
  },
  {
   "cell_type": "code",
   "execution_count": 56,
   "metadata": {},
   "outputs": [],
   "source": [
    "# Encode the categorical variables in binary numeric variables\n",
    "data3['Genotype_numeric'] = data3['Genotype'].replace(['Disomic','Trisomic'],[0,1])\n",
    "data3['Phenotype_numeric'] = data3['Phenotype'].replace(['Ciliated','Not Ciliated'],[0,1])\n",
    "data3['Constant']=1 #add constant observation to fit intercept"
   ]
  },
  {
   "cell_type": "code",
   "execution_count": 57,
   "metadata": {},
   "outputs": [
    {
     "name": "stdout",
     "output_type": "stream",
     "text": [
      "Help on class Logit in module statsmodels.discrete.discrete_model:\n",
      "\n",
      "class Logit(BinaryModel)\n",
      " |  Logit(endog, exog, check_rank=True, **kwargs)\n",
      " |  \n",
      " |  Logit Model\n",
      " |  \n",
      " |  Parameters\n",
      " |  ----------\n",
      " |  endog : array_like\n",
      " |      A 1-d endogenous response variable. The dependent variable.\n",
      " |  exog : array_like\n",
      " |      A nobs x k array where `nobs` is the number of observations and `k`\n",
      " |      is the number of regressors. An intercept is not included by default\n",
      " |      and should be added by the user. See\n",
      " |      :func:`statsmodels.tools.add_constant`.\n",
      " |  missing : str\n",
      " |      Available options are 'none', 'drop', and 'raise'. If 'none', no nan\n",
      " |      checking is done. If 'drop', any observations with nans are dropped.\n",
      " |      If 'raise', an error is raised. Default is 'none'.\n",
      " |  check_rank : bool\n",
      " |      Check exog rank to determine model degrees of freedom. Default is\n",
      " |      True. Setting to False reduces model initialization time when\n",
      " |      exog.shape[1] is large.\n",
      " |  \n",
      " |  \n",
      " |  Attributes\n",
      " |  ----------\n",
      " |  endog : ndarray\n",
      " |      A reference to the endogenous response variable\n",
      " |  exog : ndarray\n",
      " |      A reference to the exogenous design.\n",
      " |  \n",
      " |  Method resolution order:\n",
      " |      Logit\n",
      " |      BinaryModel\n",
      " |      DiscreteModel\n",
      " |      statsmodels.base.model.LikelihoodModel\n",
      " |      statsmodels.base.model.Model\n",
      " |      builtins.object\n",
      " |  \n",
      " |  Methods defined here:\n",
      " |  \n",
      " |  cdf(self, X)\n",
      " |      The logistic cumulative distribution function\n",
      " |      \n",
      " |      Parameters\n",
      " |      ----------\n",
      " |      X : array_like\n",
      " |          `X` is the linear predictor of the logit model.  See notes.\n",
      " |      \n",
      " |      Returns\n",
      " |      -------\n",
      " |      1/(1 + exp(-X))\n",
      " |      \n",
      " |      Notes\n",
      " |      -----\n",
      " |      In the logit model,\n",
      " |      \n",
      " |      .. math:: \\Lambda\\left(x^{\\prime}\\beta\\right)=\n",
      " |                \\text{Prob}\\left(Y=1|x\\right)=\n",
      " |                \\frac{e^{x^{\\prime}\\beta}}{1+e^{x^{\\prime}\\beta}}\n",
      " |  \n",
      " |  fit(self, start_params=None, method='newton', maxiter=35, full_output=1, disp=1, callback=None, **kwargs)\n",
      " |      Fit the model using maximum likelihood.\n",
      " |      \n",
      " |      The rest of the docstring is from\n",
      " |      statsmodels.base.model.LikelihoodModel.fit\n",
      " |      \n",
      " |      Fit method for likelihood based models\n",
      " |      \n",
      " |      Parameters\n",
      " |      ----------\n",
      " |      start_params : array_like, optional\n",
      " |          Initial guess of the solution for the loglikelihood maximization.\n",
      " |          The default is an array of zeros.\n",
      " |      method : str, optional\n",
      " |          The `method` determines which solver from `scipy.optimize`\n",
      " |          is used, and it can be chosen from among the following strings:\n",
      " |      \n",
      " |          - 'newton' for Newton-Raphson, 'nm' for Nelder-Mead\n",
      " |          - 'bfgs' for Broyden-Fletcher-Goldfarb-Shanno (BFGS)\n",
      " |          - 'lbfgs' for limited-memory BFGS with optional box constraints\n",
      " |          - 'powell' for modified Powell's method\n",
      " |          - 'cg' for conjugate gradient\n",
      " |          - 'ncg' for Newton-conjugate gradient\n",
      " |          - 'basinhopping' for global basin-hopping solver\n",
      " |          - 'minimize' for generic wrapper of scipy minimize (BFGS by default)\n",
      " |      \n",
      " |          The explicit arguments in `fit` are passed to the solver,\n",
      " |          with the exception of the basin-hopping solver. Each\n",
      " |          solver has several optional arguments that are not the same across\n",
      " |          solvers. See the notes section below (or scipy.optimize) for the\n",
      " |          available arguments and for the list of explicit arguments that the\n",
      " |          basin-hopping solver supports.\n",
      " |      maxiter : int, optional\n",
      " |          The maximum number of iterations to perform.\n",
      " |      full_output : bool, optional\n",
      " |          Set to True to have all available output in the Results object's\n",
      " |          mle_retvals attribute. The output is dependent on the solver.\n",
      " |          See LikelihoodModelResults notes section for more information.\n",
      " |      disp : bool, optional\n",
      " |          Set to True to print convergence messages.\n",
      " |      fargs : tuple, optional\n",
      " |          Extra arguments passed to the likelihood function, i.e.,\n",
      " |          loglike(x,*args)\n",
      " |      callback : callable callback(xk), optional\n",
      " |          Called after each iteration, as callback(xk), where xk is the\n",
      " |          current parameter vector.\n",
      " |      retall : bool, optional\n",
      " |          Set to True to return list of solutions at each iteration.\n",
      " |          Available in Results object's mle_retvals attribute.\n",
      " |      skip_hessian : bool, optional\n",
      " |          If False (default), then the negative inverse hessian is calculated\n",
      " |          after the optimization. If True, then the hessian will not be\n",
      " |          calculated. However, it will be available in methods that use the\n",
      " |          hessian in the optimization (currently only with `\"newton\"`).\n",
      " |      kwargs : keywords\n",
      " |          All kwargs are passed to the chosen solver with one exception. The\n",
      " |          following keyword controls what happens after the fit::\n",
      " |      \n",
      " |              warn_convergence : bool, optional\n",
      " |                  If True, checks the model for the converged flag. If the\n",
      " |                  converged flag is False, a ConvergenceWarning is issued.\n",
      " |      \n",
      " |      Notes\n",
      " |      -----\n",
      " |      The 'basinhopping' solver ignores `maxiter`, `retall`, `full_output`\n",
      " |      explicit arguments.\n",
      " |      \n",
      " |      Optional arguments for solvers (see returned Results.mle_settings)::\n",
      " |      \n",
      " |          'newton'\n",
      " |              tol : float\n",
      " |                  Relative error in params acceptable for convergence.\n",
      " |          'nm' -- Nelder Mead\n",
      " |              xtol : float\n",
      " |                  Relative error in params acceptable for convergence\n",
      " |              ftol : float\n",
      " |                  Relative error in loglike(params) acceptable for\n",
      " |                  convergence\n",
      " |              maxfun : int\n",
      " |                  Maximum number of function evaluations to make.\n",
      " |          'bfgs'\n",
      " |              gtol : float\n",
      " |                  Stop when norm of gradient is less than gtol.\n",
      " |              norm : float\n",
      " |                  Order of norm (np.Inf is max, -np.Inf is min)\n",
      " |              epsilon\n",
      " |                  If fprime is approximated, use this value for the step\n",
      " |                  size. Only relevant if LikelihoodModel.score is None.\n",
      " |          'lbfgs'\n",
      " |              m : int\n",
      " |                  This many terms are used for the Hessian approximation.\n",
      " |              factr : float\n",
      " |                  A stop condition that is a variant of relative error.\n",
      " |              pgtol : float\n",
      " |                  A stop condition that uses the projected gradient.\n",
      " |              epsilon\n",
      " |                  If fprime is approximated, use this value for the step\n",
      " |                  size. Only relevant if LikelihoodModel.score is None.\n",
      " |              maxfun : int\n",
      " |                  Maximum number of function evaluations to make.\n",
      " |              bounds : sequence\n",
      " |                  (min, max) pairs for each element in x,\n",
      " |                  defining the bounds on that parameter.\n",
      " |                  Use None for one of min or max when there is no bound\n",
      " |                  in that direction.\n",
      " |          'cg'\n",
      " |              gtol : float\n",
      " |                  Stop when norm of gradient is less than gtol.\n",
      " |              norm : float\n",
      " |                  Order of norm (np.Inf is max, -np.Inf is min)\n",
      " |              epsilon : float\n",
      " |                  If fprime is approximated, use this value for the step\n",
      " |                  size. Can be scalar or vector.  Only relevant if\n",
      " |                  Likelihoodmodel.score is None.\n",
      " |          'ncg'\n",
      " |              fhess_p : callable f'(x,*args)\n",
      " |                  Function which computes the Hessian of f times an arbitrary\n",
      " |                  vector, p.  Should only be supplied if\n",
      " |                  LikelihoodModel.hessian is None.\n",
      " |              avextol : float\n",
      " |                  Stop when the average relative error in the minimizer\n",
      " |                  falls below this amount.\n",
      " |              epsilon : float or ndarray\n",
      " |                  If fhess is approximated, use this value for the step size.\n",
      " |                  Only relevant if Likelihoodmodel.hessian is None.\n",
      " |          'powell'\n",
      " |              xtol : float\n",
      " |                  Line-search error tolerance\n",
      " |              ftol : float\n",
      " |                  Relative error in loglike(params) for acceptable for\n",
      " |                  convergence.\n",
      " |              maxfun : int\n",
      " |                  Maximum number of function evaluations to make.\n",
      " |              start_direc : ndarray\n",
      " |                  Initial direction set.\n",
      " |          'basinhopping'\n",
      " |              niter : int\n",
      " |                  The number of basin hopping iterations.\n",
      " |              niter_success : int\n",
      " |                  Stop the run if the global minimum candidate remains the\n",
      " |                  same for this number of iterations.\n",
      " |              T : float\n",
      " |                  The \"temperature\" parameter for the accept or reject\n",
      " |                  criterion. Higher \"temperatures\" mean that larger jumps\n",
      " |                  in function value will be accepted. For best results\n",
      " |                  `T` should be comparable to the separation (in function\n",
      " |                  value) between local minima.\n",
      " |              stepsize : float\n",
      " |                  Initial step size for use in the random displacement.\n",
      " |              interval : int\n",
      " |                  The interval for how often to update the `stepsize`.\n",
      " |              minimizer : dict\n",
      " |                  Extra keyword arguments to be passed to the minimizer\n",
      " |                  `scipy.optimize.minimize()`, for example 'method' - the\n",
      " |                  minimization method (e.g. 'L-BFGS-B'), or 'tol' - the\n",
      " |                  tolerance for termination. Other arguments are mapped from\n",
      " |                  explicit argument of `fit`:\n",
      " |                    - `args` <- `fargs`\n",
      " |                    - `jac` <- `score`\n",
      " |                    - `hess` <- `hess`\n",
      " |          'minimize'\n",
      " |              min_method : str, optional\n",
      " |                  Name of minimization method to use.\n",
      " |                  Any method specific arguments can be passed directly.\n",
      " |                  For a list of methods and their arguments, see\n",
      " |                  documentation of `scipy.optimize.minimize`.\n",
      " |                  If no method is specified, then BFGS is used.\n",
      " |  \n",
      " |  hessian(self, params)\n",
      " |      Logit model Hessian matrix of the log-likelihood\n",
      " |      \n",
      " |      Parameters\n",
      " |      ----------\n",
      " |      params : array_like\n",
      " |          The parameters of the model\n",
      " |      \n",
      " |      Returns\n",
      " |      -------\n",
      " |      hess : ndarray, (k_vars, k_vars)\n",
      " |          The Hessian, second derivative of loglikelihood function,\n",
      " |          evaluated at `params`\n",
      " |      \n",
      " |      Notes\n",
      " |      -----\n",
      " |      .. math:: \\frac{\\partial^{2}\\ln L}{\\partial\\beta\\partial\\beta^{\\prime}}=-\\sum_{i}\\Lambda_{i}\\left(1-\\Lambda_{i}\\right)x_{i}x_{i}^{\\prime}\n",
      " |  \n",
      " |  loglike(self, params)\n",
      " |      Log-likelihood of logit model.\n",
      " |      \n",
      " |      Parameters\n",
      " |      ----------\n",
      " |      params : array_like\n",
      " |          The parameters of the logit model.\n",
      " |      \n",
      " |      Returns\n",
      " |      -------\n",
      " |      loglike : float\n",
      " |          The log-likelihood function of the model evaluated at `params`.\n",
      " |          See notes.\n",
      " |      \n",
      " |      Notes\n",
      " |      -----\n",
      " |      .. math::\n",
      " |      \n",
      " |         \\ln L=\\sum_{i}\\ln\\Lambda\n",
      " |         \\left(q_{i}x_{i}^{\\prime}\\beta\\right)\n",
      " |      \n",
      " |      Where :math:`q=2y-1`. This simplification comes from the fact that the\n",
      " |      logistic distribution is symmetric.\n",
      " |  \n",
      " |  loglikeobs(self, params)\n",
      " |      Log-likelihood of logit model for each observation.\n",
      " |      \n",
      " |      Parameters\n",
      " |      ----------\n",
      " |      params : array_like\n",
      " |          The parameters of the logit model.\n",
      " |      \n",
      " |      Returns\n",
      " |      -------\n",
      " |      loglike : ndarray\n",
      " |          The log likelihood for each observation of the model evaluated\n",
      " |          at `params`. See Notes\n",
      " |      \n",
      " |      Notes\n",
      " |      -----\n",
      " |      .. math::\n",
      " |      \n",
      " |         \\ln L=\\sum_{i}\\ln\\Lambda\n",
      " |         \\left(q_{i}x_{i}^{\\prime}\\beta\\right)\n",
      " |      \n",
      " |      for observations :math:`i=1,...,n`\n",
      " |      \n",
      " |      where :math:`q=2y-1`. This simplification comes from the fact that the\n",
      " |      logistic distribution is symmetric.\n",
      " |  \n",
      " |  pdf(self, X)\n",
      " |      The logistic probability density function\n",
      " |      \n",
      " |      Parameters\n",
      " |      ----------\n",
      " |      X : array_like\n",
      " |          `X` is the linear predictor of the logit model.  See notes.\n",
      " |      \n",
      " |      Returns\n",
      " |      -------\n",
      " |      pdf : ndarray\n",
      " |          The value of the Logit probability mass function, PMF, for each\n",
      " |          point of X. ``np.exp(-x)/(1+np.exp(-X))**2``\n",
      " |      \n",
      " |      Notes\n",
      " |      -----\n",
      " |      In the logit model,\n",
      " |      \n",
      " |      .. math:: \\lambda\\left(x^{\\prime}\\beta\\right)=\\frac{e^{-x^{\\prime}\\beta}}{\\left(1+e^{-x^{\\prime}\\beta}\\right)^{2}}\n",
      " |  \n",
      " |  score(self, params)\n",
      " |      Logit model score (gradient) vector of the log-likelihood\n",
      " |      \n",
      " |      Parameters\n",
      " |      ----------\n",
      " |      params : array_like\n",
      " |          The parameters of the model\n",
      " |      \n",
      " |      Returns\n",
      " |      -------\n",
      " |      score : ndarray, 1-D\n",
      " |          The score vector of the model, i.e. the first derivative of the\n",
      " |          loglikelihood function, evaluated at `params`\n",
      " |      \n",
      " |      Notes\n",
      " |      -----\n",
      " |      .. math:: \\frac{\\partial\\ln L}{\\partial\\beta}=\\sum_{i=1}^{n}\\left(y_{i}-\\Lambda_{i}\\right)x_{i}\n",
      " |  \n",
      " |  score_obs(self, params)\n",
      " |      Logit model Jacobian of the log-likelihood for each observation\n",
      " |      \n",
      " |      Parameters\n",
      " |      ----------\n",
      " |      params : array_like\n",
      " |          The parameters of the model\n",
      " |      \n",
      " |      Returns\n",
      " |      -------\n",
      " |      jac : array_like\n",
      " |          The derivative of the loglikelihood for each observation evaluated\n",
      " |          at `params`.\n",
      " |      \n",
      " |      Notes\n",
      " |      -----\n",
      " |      .. math:: \\frac{\\partial\\ln L_{i}}{\\partial\\beta}=\\left(y_{i}-\\Lambda_{i}\\right)x_{i}\n",
      " |      \n",
      " |      for observations :math:`i=1,...,n`\n",
      " |  \n",
      " |  ----------------------------------------------------------------------\n",
      " |  Methods inherited from BinaryModel:\n",
      " |  \n",
      " |  __init__(self, endog, exog, check_rank=True, **kwargs)\n",
      " |      Initialize self.  See help(type(self)) for accurate signature.\n",
      " |  \n",
      " |  fit_regularized(self, start_params=None, method='l1', maxiter='defined_by_method', full_output=1, disp=1, callback=None, alpha=0, trim_mode='auto', auto_trim_tol=0.01, size_trim_tol=0.0001, qc_tol=0.03, **kwargs)\n",
      " |      Fit the model using a regularized maximum likelihood.\n",
      " |      \n",
      " |      The regularization method AND the solver used is determined by the\n",
      " |      argument method.\n",
      " |      \n",
      " |      Parameters\n",
      " |      ----------\n",
      " |      start_params : array_like, optional\n",
      " |          Initial guess of the solution for the loglikelihood maximization.\n",
      " |          The default is an array of zeros.\n",
      " |      method : 'l1' or 'l1_cvxopt_cp'\n",
      " |          See notes for details.\n",
      " |      maxiter : {int, 'defined_by_method'}\n",
      " |          Maximum number of iterations to perform.\n",
      " |          If 'defined_by_method', then use method defaults (see notes).\n",
      " |      full_output : bool\n",
      " |          Set to True to have all available output in the Results object's\n",
      " |          mle_retvals attribute. The output is dependent on the solver.\n",
      " |          See LikelihoodModelResults notes section for more information.\n",
      " |      disp : bool\n",
      " |          Set to True to print convergence messages.\n",
      " |      fargs : tuple\n",
      " |          Extra arguments passed to the likelihood function, i.e.,\n",
      " |          loglike(x,*args).\n",
      " |      callback : callable callback(xk)\n",
      " |          Called after each iteration, as callback(xk), where xk is the\n",
      " |          current parameter vector.\n",
      " |      retall : bool\n",
      " |          Set to True to return list of solutions at each iteration.\n",
      " |          Available in Results object's mle_retvals attribute.\n",
      " |      alpha : non-negative scalar or numpy array (same size as parameters)\n",
      " |          The weight multiplying the l1 penalty term.\n",
      " |      trim_mode : 'auto, 'size', or 'off'\n",
      " |          If not 'off', trim (set to zero) parameters that would have been\n",
      " |          zero if the solver reached the theoretical minimum.\n",
      " |          If 'auto', trim params using the Theory above.\n",
      " |          If 'size', trim params if they have very small absolute value.\n",
      " |      size_trim_tol : float or 'auto' (default = 'auto')\n",
      " |          Tolerance used when trim_mode == 'size'.\n",
      " |      auto_trim_tol : float\n",
      " |          Tolerance used when trim_mode == 'auto'.\n",
      " |      qc_tol : float\n",
      " |          Print warning and do not allow auto trim when (ii) (above) is\n",
      " |          violated by this much.\n",
      " |      qc_verbose : bool\n",
      " |          If true, print out a full QC report upon failure.\n",
      " |      **kwargs\n",
      " |          Additional keyword arguments used when fitting the model.\n",
      " |      \n",
      " |      Returns\n",
      " |      -------\n",
      " |      Results\n",
      " |          A results instance.\n",
      " |      \n",
      " |      Notes\n",
      " |      -----\n",
      " |      Using 'l1_cvxopt_cp' requires the cvxopt module.\n",
      " |      \n",
      " |      Extra parameters are not penalized if alpha is given as a scalar.\n",
      " |      An example is the shape parameter in NegativeBinomial `nb1` and `nb2`.\n",
      " |      \n",
      " |      Optional arguments for the solvers (available in Results.mle_settings)::\n",
      " |      \n",
      " |          'l1'\n",
      " |              acc : float (default 1e-6)\n",
      " |                  Requested accuracy as used by slsqp\n",
      " |          'l1_cvxopt_cp'\n",
      " |              abstol : float\n",
      " |                  absolute accuracy (default: 1e-7).\n",
      " |              reltol : float\n",
      " |                  relative accuracy (default: 1e-6).\n",
      " |              feastol : float\n",
      " |                  tolerance for feasibility conditions (default: 1e-7).\n",
      " |              refinement : int\n",
      " |                  number of iterative refinement steps when solving KKT\n",
      " |                  equations (default: 1).\n",
      " |      \n",
      " |      Optimization methodology\n",
      " |      \n",
      " |      With :math:`L` the negative log likelihood, we solve the convex but\n",
      " |      non-smooth problem\n",
      " |      \n",
      " |      .. math:: \\min_\\beta L(\\beta) + \\sum_k\\alpha_k |\\beta_k|\n",
      " |      \n",
      " |      via the transformation to the smooth, convex, constrained problem\n",
      " |      in twice as many variables (adding the \"added variables\" :math:`u_k`)\n",
      " |      \n",
      " |      .. math:: \\min_{\\beta,u} L(\\beta) + \\sum_k\\alpha_k u_k,\n",
      " |      \n",
      " |      subject to\n",
      " |      \n",
      " |      .. math:: -u_k \\leq \\beta_k \\leq u_k.\n",
      " |      \n",
      " |      With :math:`\\partial_k L` the derivative of :math:`L` in the\n",
      " |      :math:`k^{th}` parameter direction, theory dictates that, at the\n",
      " |      minimum, exactly one of two conditions holds:\n",
      " |      \n",
      " |      (i) :math:`|\\partial_k L| = \\alpha_k`  and  :math:`\\beta_k \\neq 0`\n",
      " |      (ii) :math:`|\\partial_k L| \\leq \\alpha_k`  and  :math:`\\beta_k = 0`\n",
      " |  \n",
      " |  predict(self, params, exog=None, linear=False)\n",
      " |      Predict response variable of a model given exogenous variables.\n",
      " |      \n",
      " |      Parameters\n",
      " |      ----------\n",
      " |      params : array_like\n",
      " |          Fitted parameters of the model.\n",
      " |      exog : array_like\n",
      " |          1d or 2d array of exogenous values.  If not supplied, the\n",
      " |          whole exog attribute of the model is used.\n",
      " |      linear : bool, optional\n",
      " |          If True, returns the linear predictor dot(exog,params).  Else,\n",
      " |          returns the value of the cdf at the linear predictor.\n",
      " |      \n",
      " |      Returns\n",
      " |      -------\n",
      " |      array\n",
      " |          Fitted values at exog.\n",
      " |  \n",
      " |  ----------------------------------------------------------------------\n",
      " |  Methods inherited from DiscreteModel:\n",
      " |  \n",
      " |  cov_params_func_l1(self, likelihood_model, xopt, retvals)\n",
      " |      Computes cov_params on a reduced parameter space\n",
      " |      corresponding to the nonzero parameters resulting from the\n",
      " |      l1 regularized fit.\n",
      " |      \n",
      " |      Returns a full cov_params matrix, with entries corresponding\n",
      " |      to zero'd values set to np.nan.\n",
      " |  \n",
      " |  initialize(self)\n",
      " |      Initialize is called by\n",
      " |      statsmodels.model.LikelihoodModel.__init__\n",
      " |      and should contain any preprocessing that needs to be done for a model.\n",
      " |  \n",
      " |  ----------------------------------------------------------------------\n",
      " |  Methods inherited from statsmodels.base.model.LikelihoodModel:\n",
      " |  \n",
      " |  information(self, params)\n",
      " |      Fisher information matrix of model.\n",
      " |      \n",
      " |      Returns -1 * Hessian of the log-likelihood evaluated at params.\n",
      " |      \n",
      " |      Parameters\n",
      " |      ----------\n",
      " |      params : ndarray\n",
      " |          The model parameters.\n",
      " |  \n",
      " |  ----------------------------------------------------------------------\n",
      " |  Class methods inherited from statsmodels.base.model.Model:\n",
      " |  \n",
      " |  from_formula(formula, data, subset=None, drop_cols=None, *args, **kwargs) from builtins.type\n",
      " |      Create a Model from a formula and dataframe.\n",
      " |      \n",
      " |      Parameters\n",
      " |      ----------\n",
      " |      formula : str or generic Formula object\n",
      " |          The formula specifying the model.\n",
      " |      data : array_like\n",
      " |          The data for the model. See Notes.\n",
      " |      subset : array_like\n",
      " |          An array-like object of booleans, integers, or index values that\n",
      " |          indicate the subset of df to use in the model. Assumes df is a\n",
      " |          `pandas.DataFrame`.\n",
      " |      drop_cols : array_like\n",
      " |          Columns to drop from the design matrix.  Cannot be used to\n",
      " |          drop terms involving categoricals.\n",
      " |      *args\n",
      " |          Additional positional argument that are passed to the model.\n",
      " |      **kwargs\n",
      " |          These are passed to the model with one exception. The\n",
      " |          ``eval_env`` keyword is passed to patsy. It can be either a\n",
      " |          :class:`patsy:patsy.EvalEnvironment` object or an integer\n",
      " |          indicating the depth of the namespace to use. For example, the\n",
      " |          default ``eval_env=0`` uses the calling namespace. If you wish\n",
      " |          to use a \"clean\" environment set ``eval_env=-1``.\n",
      " |      \n",
      " |      Returns\n",
      " |      -------\n",
      " |      model\n",
      " |          The model instance.\n",
      " |      \n",
      " |      Notes\n",
      " |      -----\n",
      " |      data must define __getitem__ with the keys in the formula terms\n",
      " |      args and kwargs are passed on to the model instantiation. E.g.,\n",
      " |      a numpy structured or rec array, a dictionary, or a pandas DataFrame.\n",
      " |  \n",
      " |  ----------------------------------------------------------------------\n",
      " |  Data descriptors inherited from statsmodels.base.model.Model:\n",
      " |  \n",
      " |  __dict__\n",
      " |      dictionary for instance variables (if defined)\n",
      " |  \n",
      " |  __weakref__\n",
      " |      list of weak references to the object (if defined)\n",
      " |  \n",
      " |  endog_names\n",
      " |      Names of endogenous variables.\n",
      " |  \n",
      " |  exog_names\n",
      " |      Names of exogenous variables.\n",
      "\n"
     ]
    }
   ],
   "source": [
    "help(sm.Logit)"
   ]
  },
  {
   "cell_type": "code",
   "execution_count": 58,
   "metadata": {},
   "outputs": [
    {
     "name": "stdout",
     "output_type": "stream",
     "text": [
      "Optimization terminated successfully.\n",
      "         Current function value: 0.554701\n",
      "         Iterations 6\n",
      "                           Logit Regression Results                           \n",
      "==============================================================================\n",
      "Dep. Variable:      Phenotype_numeric   No. Observations:                 1058\n",
      "Model:                          Logit   Df Residuals:                     1055\n",
      "Method:                           MLE   Df Model:                            2\n",
      "Date:                Thu, 26 May 2022   Pseudo R-squ.:                 0.06417\n",
      "Time:                        16:40:22   Log-Likelihood:                -586.87\n",
      "converged:                       True   LL-Null:                       -627.12\n",
      "Covariance Type:            nonrobust   LLR p-value:                 3.329e-18\n",
      "====================================================================================\n",
      "                       coef    std err          z      P>|z|      [0.025      0.975]\n",
      "------------------------------------------------------------------------------------\n",
      "Day                 -0.1291      0.048     -2.687      0.007      -0.223      -0.035\n",
      "Genotype_numeric     1.2918      0.157      8.223      0.000       0.984       1.600\n",
      "Constant             0.8489      0.160      5.293      0.000       0.535       1.163\n",
      "====================================================================================\n"
     ]
    }
   ],
   "source": [
    "# logistic regression model\n",
    "# get independent variables\n",
    "X = data3[['Day','Genotype_numeric','Constant']]\n",
    "# to get intercept -- this is optional\n",
    "# X = sm.add_constant(X)\n",
    "# get response variables\n",
    "Y = data3[['Phenotype_numeric']]\n",
    "# fit the model with maximum likelihood function\n",
    "model = sm.Logit(endog=Y, exog=X).fit(maxiter=1000,tol=1e-9)\n",
    "\n",
    "print(model.summary())"
   ]
  },
  {
   "cell_type": "markdown",
   "metadata": {},
   "source": [
    "The section of the function output that we are most interested in is the coefficients. The line that starts with \"GenotypeTrisomic\" tells us about the effect of genotype. The magnitude of the effect of being Trisomic vs Disomic is 1.2918. This coefficient is calculated as the natural log of the odds ratio. A Wald test was run on this coefficient to determine if it is a significant departure from what would be expected if there was no effect of genotype. The Wald test is based on z-scores. Dividing the coefficient by the standard error results in a z-score of 5.29 which has a p-value < 1e-10. So genotype has a very significant effect on the proportion of cells with cilia.\n",
    "\n",
    "Simiarly, there were significant effects of what day the experiment was conducted on. Although the effect of day was not of interest, by including it as a variable in the model we were able to estimate and therefore control for significant variation in the proportion of cells with cilia across days. Controling for the day effect allowed us to more accurately estimate the effect and significance of genotype.\n"
   ]
  },
  {
   "cell_type": "code",
   "execution_count": 59,
   "metadata": {},
   "outputs": [
    {
     "data": {
      "text/plain": [
       "3.6392927787699296"
      ]
     },
     "execution_count": 59,
     "metadata": {},
     "output_type": "execute_result"
    }
   ],
   "source": [
    "# Odds Ratio = (Ciliated Disomic / Not Ciliated Disomic) / (Ciliated Trisomic / Not Ciliated Trisomic)\n",
    "np.exp(model.params['Genotype_numeric'])"
   ]
  },
  {
   "cell_type": "markdown",
   "metadata": {},
   "source": [
    "Alternatively, we can use the the sklearn linear model module:"
   ]
  },
  {
   "cell_type": "code",
   "execution_count": 60,
   "metadata": {},
   "outputs": [
    {
     "data": {
      "text/plain": [
       "LogisticRegression(fit_intercept=False, max_iter=1000, penalty='none',\n",
       "                   tol=1e-08)"
      ]
     },
     "execution_count": 60,
     "metadata": {},
     "output_type": "execute_result"
    }
   ],
   "source": [
    "# build a generalized linear model of Phenotype with binomial errors and Genotype and Day as treatments\n",
    "model = linear_model.LogisticRegression(tol=0.00000001,max_iter=1000,penalty='none',fit_intercept=False)\n",
    "\n",
    "x = data3[['Day','Genotype_numeric','Constant']]\n",
    "y = data3['Phenotype_numeric']\n",
    "model.fit(x,y)"
   ]
  },
  {
   "cell_type": "code",
   "execution_count": 61,
   "metadata": {},
   "outputs": [
    {
     "data": {
      "text/plain": [
       "array([[-0.12907374,  1.29179027,  0.84890934]])"
      ]
     },
     "execution_count": 61,
     "metadata": {},
     "output_type": "execute_result"
    }
   ],
   "source": [
    "#coeff\n",
    "model.coef_"
   ]
  },
  {
   "cell_type": "code",
   "execution_count": 62,
   "metadata": {},
   "outputs": [],
   "source": [
    "#model.score(x,y)\n",
    "#confusion_matrix(y, model.predict(x))"
   ]
  },
  {
   "cell_type": "code",
   "execution_count": 63,
   "metadata": {},
   "outputs": [
    {
     "data": {
      "text/plain": [
       "3.639296067838155"
      ]
     },
     "execution_count": 63,
     "metadata": {},
     "output_type": "execute_result"
    }
   ],
   "source": [
    "# Odds Ratio = (Ciliated Disomic / Not Ciliated Disomic) / (Ciliated Trisomic / Not Ciliated Trisomic)\n",
    "np.exp(model.coef_[0][1])"
   ]
  },
  {
   "cell_type": "markdown",
   "metadata": {},
   "source": [
    "# Example 6: Chi-Square contingency test on combined response and combined treatment groups\n",
    "This example is similar to the previous example in that there is a categorical response variable and the treatment is categorical. However, in this example there is only one categorical treatment variable so instead of logistic regression we can run a chi-square contingency test.\n",
    "\n",
    "The biological hypothesis is that loss of expression of the gene JMJD2A causes decreased expression of the gene Sox2 in developing chicken neural plate. The four treatments were control morpholino (Control-MO), translation blocking JMJD2A morpholino (JmjD2A-tbMO), splicing blocking JMJD2A morpholino (JmjD2A-sbMO), and splicing blocking JMJD2A morpholino plus JmjD2A full-length rescue vector. The response was Sox2 expression for each embryo categorized as full wild type expression (WT), mild decrease in expression (Mild), or strong decrease in expression (Strong). An appropriate null hypothesis is that Sox2 expression response is independent of JMJD2A treatment.\n",
    "\n",
    "We can test our null hypothesis with a chi-square contingency test. The test calculates the expected counts of each combination of treatment and response assuming independence. The assumptions of the test are that none of the expected counts are less than 1 and <20% of the expected counts are less than 5. Let's look at the data to see if they meet these assumptions."
   ]
  },
  {
   "cell_type": "code",
   "execution_count": 64,
   "metadata": {},
   "outputs": [
    {
     "data": {
      "text/html": [
       "<div>\n",
       "<style scoped>\n",
       "    .dataframe tbody tr th:only-of-type {\n",
       "        vertical-align: middle;\n",
       "    }\n",
       "\n",
       "    .dataframe tbody tr th {\n",
       "        vertical-align: top;\n",
       "    }\n",
       "\n",
       "    .dataframe thead th {\n",
       "        text-align: right;\n",
       "    }\n",
       "</style>\n",
       "<table border=\"1\" class=\"dataframe\">\n",
       "  <thead>\n",
       "    <tr style=\"text-align: right;\">\n",
       "      <th></th>\n",
       "      <th>Treatment</th>\n",
       "      <th>Phenotype</th>\n",
       "    </tr>\n",
       "  </thead>\n",
       "  <tbody>\n",
       "    <tr>\n",
       "      <th>0</th>\n",
       "      <td>Control-MO</td>\n",
       "      <td>Mild</td>\n",
       "    </tr>\n",
       "    <tr>\n",
       "      <th>1</th>\n",
       "      <td>Control-MO</td>\n",
       "      <td>Mild</td>\n",
       "    </tr>\n",
       "    <tr>\n",
       "      <th>2</th>\n",
       "      <td>Control-MO</td>\n",
       "      <td>WT</td>\n",
       "    </tr>\n",
       "    <tr>\n",
       "      <th>3</th>\n",
       "      <td>Control-MO</td>\n",
       "      <td>WT</td>\n",
       "    </tr>\n",
       "    <tr>\n",
       "      <th>4</th>\n",
       "      <td>Control-MO</td>\n",
       "      <td>WT</td>\n",
       "    </tr>\n",
       "  </tbody>\n",
       "</table>\n",
       "</div>"
      ],
      "text/plain": [
       "    Treatment Phenotype\n",
       "0  Control-MO      Mild\n",
       "1  Control-MO      Mild\n",
       "2  Control-MO        WT\n",
       "3  Control-MO        WT\n",
       "4  Control-MO        WT"
      ]
     },
     "execution_count": 64,
     "metadata": {},
     "output_type": "execute_result"
    }
   ],
   "source": [
    "# read fourth data file into data frame object\n",
    "data4 = pd.read_excel('../data/dataset4.xlsx')\n",
    "data4.head()"
   ]
  },
  {
   "cell_type": "code",
   "execution_count": 65,
   "metadata": {},
   "outputs": [
    {
     "data": {
      "text/html": [
       "<div>\n",
       "<style scoped>\n",
       "    .dataframe tbody tr th:only-of-type {\n",
       "        vertical-align: middle;\n",
       "    }\n",
       "\n",
       "    .dataframe tbody tr th {\n",
       "        vertical-align: top;\n",
       "    }\n",
       "\n",
       "    .dataframe thead th {\n",
       "        text-align: right;\n",
       "    }\n",
       "</style>\n",
       "<table border=\"1\" class=\"dataframe\">\n",
       "  <thead>\n",
       "    <tr style=\"text-align: right;\">\n",
       "      <th>Phenotype</th>\n",
       "      <th>Mild</th>\n",
       "      <th>Strong</th>\n",
       "      <th>WT</th>\n",
       "    </tr>\n",
       "    <tr>\n",
       "      <th>Treatment</th>\n",
       "      <th></th>\n",
       "      <th></th>\n",
       "      <th></th>\n",
       "    </tr>\n",
       "  </thead>\n",
       "  <tbody>\n",
       "    <tr>\n",
       "      <th>Control-MO</th>\n",
       "      <td>2</td>\n",
       "      <td>0</td>\n",
       "      <td>20</td>\n",
       "    </tr>\n",
       "    <tr>\n",
       "      <th>JmjD2A-sbMO</th>\n",
       "      <td>3</td>\n",
       "      <td>7</td>\n",
       "      <td>2</td>\n",
       "    </tr>\n",
       "    <tr>\n",
       "      <th>JmjD2A-sbMO+pCI-JmjD2A</th>\n",
       "      <td>4</td>\n",
       "      <td>2</td>\n",
       "      <td>9</td>\n",
       "    </tr>\n",
       "    <tr>\n",
       "      <th>JmjD2A-tbMO</th>\n",
       "      <td>10</td>\n",
       "      <td>14</td>\n",
       "      <td>13</td>\n",
       "    </tr>\n",
       "  </tbody>\n",
       "</table>\n",
       "</div>"
      ],
      "text/plain": [
       "Phenotype               Mild  Strong  WT\n",
       "Treatment                               \n",
       "Control-MO                 2       0  20\n",
       "JmjD2A-sbMO                3       7   2\n",
       "JmjD2A-sbMO+pCI-JmjD2A     4       2   9\n",
       "JmjD2A-tbMO               10      14  13"
      ]
     },
     "execution_count": 65,
     "metadata": {},
     "output_type": "execute_result"
    }
   ],
   "source": [
    "# create a contingency table\n",
    "table = pd.crosstab(data4.Treatment,data4.Phenotype)\n",
    "table"
   ]
  },
  {
   "cell_type": "markdown",
   "metadata": {},
   "source": [
    "The crosstab function calculated a contingency table, a table of counts for combinations of treatment and phenotype (Sox2 expression). An efficient way to get the expected counts from the observed counts is to run the st.chi2_contingency function and then print out the expected counts which it calculates."
   ]
  },
  {
   "cell_type": "code",
   "execution_count": 80,
   "metadata": {},
   "outputs": [],
   "source": [
    "# run chi-square test with correct = F because this is not a 2x2 table\n",
    "chi2test = st.chi2_contingency(table,correction=False)"
   ]
  },
  {
   "cell_type": "code",
   "execution_count": 81,
   "metadata": {},
   "outputs": [
    {
     "data": {
      "text/plain": [
       "array([[ 4.86046512,  5.88372093, 11.25581395],\n",
       "       [ 2.65116279,  3.20930233,  6.13953488],\n",
       "       [ 3.31395349,  4.01162791,  7.6744186 ],\n",
       "       [ 8.1744186 ,  9.89534884, 18.93023256]])"
      ]
     },
     "execution_count": 81,
     "metadata": {},
     "output_type": "execute_result"
    }
   ],
   "source": [
    "#print expected counts\n",
    "chi2test[3]"
   ]
  },
  {
   "cell_type": "markdown",
   "metadata": {},
   "source": [
    "Although the expected counts meet the first assumption that none can be less than 1, they do not meet the second assumption that <20% are less than 5. 5 out of 12 (41.7%) are less than 5.\n",
    "\n",
    "There are two ways to handle this situation. One way is to increase sample sizes for each of the treatments. Another way is to consider if any of the treatment or response categories could be combined such that the assumption is satisfied while keeping the outcome of the hypothesis test interpretable and meaningful.\n",
    "\n",
    "Given the biological hypothesis that loss of expression of the gene JMJD2A causes decreased expression of the gene Sox2, the two treatments intended to decrease expression of JMJD2A (JmjD2A-tbMO & JmjD2A-sbMO) could be combined and the two responses that involve decreased expression of Sox2 (Mild & Strong) could be combined."
   ]
  },
  {
   "cell_type": "code",
   "execution_count": 90,
   "metadata": {},
   "outputs": [
    {
     "data": {
      "text/html": [
       "<div>\n",
       "<style scoped>\n",
       "    .dataframe tbody tr th:only-of-type {\n",
       "        vertical-align: middle;\n",
       "    }\n",
       "\n",
       "    .dataframe tbody tr th {\n",
       "        vertical-align: top;\n",
       "    }\n",
       "\n",
       "    .dataframe thead th {\n",
       "        text-align: right;\n",
       "    }\n",
       "</style>\n",
       "<table border=\"1\" class=\"dataframe\">\n",
       "  <thead>\n",
       "    <tr style=\"text-align: right;\">\n",
       "      <th>Phenotype_comb</th>\n",
       "      <th>MildStrong</th>\n",
       "      <th>WT</th>\n",
       "    </tr>\n",
       "    <tr>\n",
       "      <th>Treatment_comb</th>\n",
       "      <th></th>\n",
       "      <th></th>\n",
       "    </tr>\n",
       "  </thead>\n",
       "  <tbody>\n",
       "    <tr>\n",
       "      <th>Control-MO</th>\n",
       "      <td>2</td>\n",
       "      <td>20</td>\n",
       "    </tr>\n",
       "    <tr>\n",
       "      <th>JmjD2A-sbMO+pCI-JmjD2A</th>\n",
       "      <td>6</td>\n",
       "      <td>9</td>\n",
       "    </tr>\n",
       "    <tr>\n",
       "      <th>JmjD2A-sbMOtbMO</th>\n",
       "      <td>34</td>\n",
       "      <td>15</td>\n",
       "    </tr>\n",
       "  </tbody>\n",
       "</table>\n",
       "</div>"
      ],
      "text/plain": [
       "Phenotype_comb          MildStrong  WT\n",
       "Treatment_comb                        \n",
       "Control-MO                       2  20\n",
       "JmjD2A-sbMO+pCI-JmjD2A           6   9\n",
       "JmjD2A-sbMOtbMO                 34  15"
      ]
     },
     "execution_count": 90,
     "metadata": {},
     "output_type": "execute_result"
    }
   ],
   "source": [
    "# create a contingency table\n",
    "data4['Phenotype_comb'] = data4['Phenotype'].replace({'Mild':'MildStrong','Strong':'MildStrong'})\n",
    "data4['Treatment_comb'] = data4['Treatment'].replace({'JmjD2A-sbMO':'JmjD2A-sbMOtbMO','JmjD2A-tbMO':'JmjD2A-sbMOtbMO'})\n",
    "table_comb = pd.crosstab(data4.Treatment_comb,data4.Phenotype_comb)\n",
    "table_comb"
   ]
  },
  {
   "cell_type": "markdown",
   "metadata": {},
   "source": [
    "Now check the expected counts for this new observed counts table."
   ]
  },
  {
   "cell_type": "code",
   "execution_count": 91,
   "metadata": {},
   "outputs": [],
   "source": [
    "# run chi-square test with correct = F because this is not a 2x2 table\n",
    "chi2test_comb = st.chi2_contingency(table_comb,correction=False)"
   ]
  },
  {
   "cell_type": "markdown",
   "metadata": {},
   "source": [
    "Now all expected values are 5 or more so the assumptions of the test have been met."
   ]
  },
  {
   "cell_type": "code",
   "execution_count": 92,
   "metadata": {},
   "outputs": [
    {
     "data": {
      "text/plain": [
       "array([[10.74418605, 11.25581395],\n",
       "       [ 7.3255814 ,  7.6744186 ],\n",
       "       [23.93023256, 25.06976744]])"
      ]
     },
     "execution_count": 92,
     "metadata": {},
     "output_type": "execute_result"
    }
   ],
   "source": [
    "#print expected counts\n",
    "chi2test_comb[3]"
   ]
  },
  {
   "cell_type": "code",
   "execution_count": 95,
   "metadata": {},
   "outputs": [
    {
     "data": {
      "text/plain": [
       "1.2005066920397822e-05"
      ]
     },
     "execution_count": 95,
     "metadata": {},
     "output_type": "execute_result"
    }
   ],
   "source": [
    "#pvalue\n",
    "chi2test_comb[1]"
   ]
  },
  {
   "cell_type": "markdown",
   "metadata": {},
   "source": [
    "The test resulted in a significant p-value. So we reject the null hypothesis that Sox2 expression is independent of treatments decreasing JMJD2A expression.\n"
   ]
  },
  {
   "cell_type": "markdown",
   "metadata": {},
   "source": [
    "# Example 7: ANOVA with Tukey-Kramer Post-hoc\n",
    "In this example there is a categorical treatment variable and a continuous numerical response variable, just like the first two examples. However, in this example, the categorical treatment variable has four groups, three RNAi treatments and one control treatment.\n",
    "\n",
    "The biological hypothesis is that RNAi against all three members of the ZLW gene family results in decreased fluorescence intensity of a reporter. A common mistake is to perform a series of t-tests, which does not control the false positive rate at or below 0.05. If all six pairwise comparisons were made using t-tests, the false positive rate would be capped at 6 x 0.05 = 0.3, which is quite high. A single ANOVA test can be run to determine if any of the mean responses across treatments are different. The null hypothesis is that the mean responses are the same across all treatments. If we reject this null hypothesis from the ANOVA, we can then run a Tukey-Kramer post-hoc analysis to determine which pairs of treatments are significantly different. And all of that can be done while keeping the false positive rate no higher than 0.05.\n",
    "\n",
    "ANOVA has the same assumptions as t-tests: normality of responses within treatments and equal variances across treatments. Let's see if the data meet these assumptions."
   ]
  },
  {
   "cell_type": "code",
   "execution_count": 72,
   "metadata": {},
   "outputs": [
    {
     "data": {
      "text/html": [
       "<div>\n",
       "<style scoped>\n",
       "    .dataframe tbody tr th:only-of-type {\n",
       "        vertical-align: middle;\n",
       "    }\n",
       "\n",
       "    .dataframe tbody tr th {\n",
       "        vertical-align: top;\n",
       "    }\n",
       "\n",
       "    .dataframe thead th {\n",
       "        text-align: right;\n",
       "    }\n",
       "</style>\n",
       "<table border=\"1\" class=\"dataframe\">\n",
       "  <thead>\n",
       "    <tr style=\"text-align: right;\">\n",
       "      <th></th>\n",
       "      <th>Treatment</th>\n",
       "      <th>Intensity</th>\n",
       "    </tr>\n",
       "  </thead>\n",
       "  <tbody>\n",
       "    <tr>\n",
       "      <th>0</th>\n",
       "      <td>control</td>\n",
       "      <td>22.657404</td>\n",
       "    </tr>\n",
       "    <tr>\n",
       "      <th>1</th>\n",
       "      <td>control</td>\n",
       "      <td>23.579866</td>\n",
       "    </tr>\n",
       "    <tr>\n",
       "      <th>2</th>\n",
       "      <td>control</td>\n",
       "      <td>25.032765</td>\n",
       "    </tr>\n",
       "    <tr>\n",
       "      <th>3</th>\n",
       "      <td>control</td>\n",
       "      <td>28.581048</td>\n",
       "    </tr>\n",
       "    <tr>\n",
       "      <th>4</th>\n",
       "      <td>control</td>\n",
       "      <td>12.638599</td>\n",
       "    </tr>\n",
       "  </tbody>\n",
       "</table>\n",
       "</div>"
      ],
      "text/plain": [
       "  Treatment  Intensity\n",
       "0   control  22.657404\n",
       "1   control  23.579866\n",
       "2   control  25.032765\n",
       "3   control  28.581048\n",
       "4   control  12.638599"
      ]
     },
     "execution_count": 72,
     "metadata": {},
     "output_type": "execute_result"
    }
   ],
   "source": [
    "# read fifth data file into data frame object\n",
    "data5 = pd.read_excel('../data/dataset5.xlsx')\n",
    "\n",
    "data5.head()"
   ]
  },
  {
   "cell_type": "code",
   "execution_count": 73,
   "metadata": {},
   "outputs": [
    {
     "data": {
      "text/html": [
       "<div>\n",
       "<style scoped>\n",
       "    .dataframe tbody tr th:only-of-type {\n",
       "        vertical-align: middle;\n",
       "    }\n",
       "\n",
       "    .dataframe tbody tr th {\n",
       "        vertical-align: top;\n",
       "    }\n",
       "\n",
       "    .dataframe thead th {\n",
       "        text-align: right;\n",
       "    }\n",
       "</style>\n",
       "<table border=\"1\" class=\"dataframe\">\n",
       "  <thead>\n",
       "    <tr style=\"text-align: right;\">\n",
       "      <th></th>\n",
       "      <th>Intensity</th>\n",
       "    </tr>\n",
       "  </thead>\n",
       "  <tbody>\n",
       "    <tr>\n",
       "      <th>count</th>\n",
       "      <td>298.000000</td>\n",
       "    </tr>\n",
       "    <tr>\n",
       "      <th>mean</th>\n",
       "      <td>14.417329</td>\n",
       "    </tr>\n",
       "    <tr>\n",
       "      <th>std</th>\n",
       "      <td>5.553955</td>\n",
       "    </tr>\n",
       "    <tr>\n",
       "      <th>min</th>\n",
       "      <td>0.395759</td>\n",
       "    </tr>\n",
       "    <tr>\n",
       "      <th>25%</th>\n",
       "      <td>10.809939</td>\n",
       "    </tr>\n",
       "    <tr>\n",
       "      <th>50%</th>\n",
       "      <td>14.264491</td>\n",
       "    </tr>\n",
       "    <tr>\n",
       "      <th>75%</th>\n",
       "      <td>17.750864</td>\n",
       "    </tr>\n",
       "    <tr>\n",
       "      <th>max</th>\n",
       "      <td>30.610109</td>\n",
       "    </tr>\n",
       "  </tbody>\n",
       "</table>\n",
       "</div>"
      ],
      "text/plain": [
       "        Intensity\n",
       "count  298.000000\n",
       "mean    14.417329\n",
       "std      5.553955\n",
       "min      0.395759\n",
       "25%     10.809939\n",
       "50%     14.264491\n",
       "75%     17.750864\n",
       "max     30.610109"
      ]
     },
     "execution_count": 73,
     "metadata": {},
     "output_type": "execute_result"
    }
   ],
   "source": [
    "data5.describe()"
   ]
  },
  {
   "cell_type": "code",
   "execution_count": 74,
   "metadata": {},
   "outputs": [
    {
     "data": {
      "text/plain": [
       "ZLW2-RNAi    76\n",
       "ZLW3-RNAi    75\n",
       "control      74\n",
       "ZLW1-RNAi    73\n",
       "Name: Treatment, dtype: int64"
      ]
     },
     "execution_count": 74,
     "metadata": {},
     "output_type": "execute_result"
    }
   ],
   "source": [
    "data5.Treatment.value_counts()"
   ]
  },
  {
   "cell_type": "code",
   "execution_count": 75,
   "metadata": {},
   "outputs": [
    {
     "data": {
      "text/plain": [
       "<AxesSubplot:xlabel='Treatment', ylabel='Intensity'>"
      ]
     },
     "execution_count": 75,
     "metadata": {},
     "output_type": "execute_result"
    },
    {
     "data": {
      "image/png": "[encoded data removed]",
      "text/plain": [
       "<Figure size 432x288 with 1 Axes>"
      ]
     },
     "metadata": {
      "needs_background": "light"
     },
     "output_type": "display_data"
    }
   ],
   "source": [
    "sns.boxplot(data=data5,x='Treatment',y='Intensity',color='lightblue')\n",
    "sns.swarmplot(data=data5,x='Treatment',y='Intensity',color='b')"
   ]
  },
  {
   "cell_type": "code",
   "execution_count": 76,
   "metadata": {},
   "outputs": [
    {
     "name": "stdout",
     "output_type": "stream",
     "text": [
      "0.395759006651874 30.6101092972905\n",
      "[ 0.39575901  2.55392688  4.71209476  6.87026264  9.02843052 11.1865984\n",
      " 13.34476627 15.50293415 17.66110203 19.81926991 21.97743779 24.13560566\n",
      " 26.29377354 28.45194142 30.6101093 ]\n"
     ]
    },
    {
     "data": {
      "image/png": "[encoded data removed]",
      "text/plain": [
       "<Figure size 576x720 with 4 Axes>"
      ]
     },
     "metadata": {
      "needs_background": "light"
     },
     "output_type": "display_data"
    }
   ],
   "source": [
    "#binning\n",
    "min_value = data5['Intensity'].min()\n",
    "max_value = data5['Intensity'].max()\n",
    "print(min_value,max_value)\n",
    "\n",
    "bins = np.linspace(min_value,max_value,15)\n",
    "print(bins)\n",
    "\n",
    "# plot data as stacked histograms\n",
    "fig,ax=plt.subplots(4,1,sharex=True,figsize=(8,10))\n",
    "i=0\n",
    "for treatment in data5['Treatment'].unique():\n",
    "    ax[i].set_title(treatment)\n",
    "    sns.histplot(data=data5[data5.Treatment==treatment],x='Intensity',ax=ax[i],bins=bins)\n",
    "    i = i+1\n",
    "\n",
    "plt.tight_layout()"
   ]
  },
  {
   "cell_type": "code",
   "execution_count": 77,
   "metadata": {},
   "outputs": [
    {
     "data": {
      "text/html": [
       "<div>\n",
       "<style scoped>\n",
       "    .dataframe tbody tr th:only-of-type {\n",
       "        vertical-align: middle;\n",
       "    }\n",
       "\n",
       "    .dataframe tbody tr th {\n",
       "        vertical-align: top;\n",
       "    }\n",
       "\n",
       "    .dataframe thead th {\n",
       "        text-align: right;\n",
       "    }\n",
       "</style>\n",
       "<table border=\"1\" class=\"dataframe\">\n",
       "  <thead>\n",
       "    <tr style=\"text-align: right;\">\n",
       "      <th></th>\n",
       "      <th>count</th>\n",
       "      <th>mean</th>\n",
       "      <th>median</th>\n",
       "      <th>std</th>\n",
       "      <th>var</th>\n",
       "    </tr>\n",
       "    <tr>\n",
       "      <th>Treatment</th>\n",
       "      <th></th>\n",
       "      <th></th>\n",
       "      <th></th>\n",
       "      <th></th>\n",
       "      <th></th>\n",
       "    </tr>\n",
       "  </thead>\n",
       "  <tbody>\n",
       "    <tr>\n",
       "      <th>ZLW1-RNAi</th>\n",
       "      <td>73</td>\n",
       "      <td>13.770633</td>\n",
       "      <td>13.651373</td>\n",
       "      <td>3.437403</td>\n",
       "      <td>11.815741</td>\n",
       "    </tr>\n",
       "    <tr>\n",
       "      <th>ZLW2-RNAi</th>\n",
       "      <td>76</td>\n",
       "      <td>10.909480</td>\n",
       "      <td>11.074733</td>\n",
       "      <td>5.808174</td>\n",
       "      <td>33.734889</td>\n",
       "    </tr>\n",
       "    <tr>\n",
       "      <th>ZLW3-RNAi</th>\n",
       "      <td>75</td>\n",
       "      <td>14.802026</td>\n",
       "      <td>14.582568</td>\n",
       "      <td>4.420197</td>\n",
       "      <td>19.538139</td>\n",
       "    </tr>\n",
       "    <tr>\n",
       "      <th>control</th>\n",
       "      <td>74</td>\n",
       "      <td>18.268046</td>\n",
       "      <td>17.342060</td>\n",
       "      <td>5.564848</td>\n",
       "      <td>30.967528</td>\n",
       "    </tr>\n",
       "  </tbody>\n",
       "</table>\n",
       "</div>"
      ],
      "text/plain": [
       "           count       mean     median       std        var\n",
       "Treatment                                                  \n",
       "ZLW1-RNAi     73  13.770633  13.651373  3.437403  11.815741\n",
       "ZLW2-RNAi     76  10.909480  11.074733  5.808174  33.734889\n",
       "ZLW3-RNAi     75  14.802026  14.582568  4.420197  19.538139\n",
       "control       74  18.268046  17.342060  5.564848  30.967528"
      ]
     },
     "execution_count": 77,
     "metadata": {},
     "output_type": "execute_result"
    }
   ],
   "source": [
    "#summary statistics, stratified by genotype\n",
    "data5.groupby('Treatment')['Intensity'].agg(['count','mean','median','std','var'])"
   ]
  },
  {
   "cell_type": "markdown",
   "metadata": {},
   "source": [
    "The distributions of responses for each treatment look approximately normally distributed. The variances are not equal but are all less than three fold different. ANOVA is robust to this level of difference in variance as long as the experiment is balanced. Sample sizes are large and almost identical so it is balanced. It appears we have met the assumptions of ANOVA."
   ]
  },
  {
   "cell_type": "code",
   "execution_count": 78,
   "metadata": {},
   "outputs": [
    {
     "data": {
      "text/plain": [
       "F_onewayResult(statistic=28.679476925398202, pvalue=2.7039219455511927e-16)"
      ]
     },
     "execution_count": 78,
     "metadata": {},
     "output_type": "execute_result"
    }
   ],
   "source": [
    "data_control = data5[data5.Treatment == 'control']['Intensity']\n",
    "data_zlw1 = data5[data5.Treatment == 'ZLW1-RNAi']['Intensity']\n",
    "data_zlw2 = data5[data5.Treatment == 'ZLW2-RNAi']['Intensity']\n",
    "data_zlw3 = data5[data5.Treatment == 'ZLW3-RNAi']['Intensity']\n",
    "\n",
    "#ANOVA\n",
    "st.f_oneway(data_control,data_zlw1,data_zlw2,data_zlw3)"
   ]
  },
  {
   "cell_type": "code",
   "execution_count": null,
   "metadata": {},
   "outputs": [],
   "source": []
  },
  {
   "cell_type": "markdown",
   "metadata": {},
   "source": [
    "The f_oneway function, like the glm() function from the third example, takes an equation written as Response ~ Treatment. In our case that was Intensity ~ Treatment. The summary() function provides the results we seek. ANOVA runs what is called an F-test. Large values of F mean that the differences in responses amongst treatments are large compared to differences in responses within treatments. F values close to 1 mean that the differences in responses amongst treatments are similar to differences in responses within treatments. In our case, we got an F value of 28.68, which is very large and has a very significant p-value of 2.7e-16. We therefore reject the null hypothesis that the mean responses are the same across treatments.\n",
    "\n",
    "If and only if you get a significant result from an ANOVA, you can run a Tukey-Kramer post-hoc analysis to determine which pairs of treatments differ significantly."
   ]
  },
  {
   "cell_type": "code",
   "execution_count": 79,
   "metadata": {},
   "outputs": [
    {
     "data": {
      "text/html": [
       "<div>\n",
       "<style scoped>\n",
       "    .dataframe tbody tr th:only-of-type {\n",
       "        vertical-align: middle;\n",
       "    }\n",
       "\n",
       "    .dataframe tbody tr th {\n",
       "        vertical-align: top;\n",
       "    }\n",
       "\n",
       "    .dataframe thead th {\n",
       "        text-align: right;\n",
       "    }\n",
       "</style>\n",
       "<table border=\"1\" class=\"dataframe\">\n",
       "  <thead>\n",
       "    <tr style=\"text-align: right;\">\n",
       "      <th></th>\n",
       "      <th>group1</th>\n",
       "      <th>group2</th>\n",
       "      <th>Diff</th>\n",
       "      <th>Lower</th>\n",
       "      <th>Upper</th>\n",
       "      <th>q-value</th>\n",
       "      <th>p-value</th>\n",
       "    </tr>\n",
       "  </thead>\n",
       "  <tbody>\n",
       "    <tr>\n",
       "      <th>0</th>\n",
       "      <td>control</td>\n",
       "      <td>ZLW1-RNAi</td>\n",
       "      <td>4.497413</td>\n",
       "      <td>2.404644</td>\n",
       "      <td>6.590182</td>\n",
       "      <td>7.852891</td>\n",
       "      <td>0.001000</td>\n",
       "    </tr>\n",
       "    <tr>\n",
       "      <th>1</th>\n",
       "      <td>control</td>\n",
       "      <td>ZLW2-RNAi</td>\n",
       "      <td>7.358565</td>\n",
       "      <td>5.286694</td>\n",
       "      <td>9.430437</td>\n",
       "      <td>12.978317</td>\n",
       "      <td>0.001000</td>\n",
       "    </tr>\n",
       "    <tr>\n",
       "      <th>2</th>\n",
       "      <td>control</td>\n",
       "      <td>ZLW3-RNAi</td>\n",
       "      <td>3.466019</td>\n",
       "      <td>1.387345</td>\n",
       "      <td>5.544694</td>\n",
       "      <td>6.093019</td>\n",
       "      <td>0.001000</td>\n",
       "    </tr>\n",
       "    <tr>\n",
       "      <th>3</th>\n",
       "      <td>ZLW1-RNAi</td>\n",
       "      <td>ZLW2-RNAi</td>\n",
       "      <td>2.861152</td>\n",
       "      <td>0.782103</td>\n",
       "      <td>4.940201</td>\n",
       "      <td>5.028799</td>\n",
       "      <td>0.002467</td>\n",
       "    </tr>\n",
       "    <tr>\n",
       "      <th>4</th>\n",
       "      <td>ZLW1-RNAi</td>\n",
       "      <td>ZLW3-RNAi</td>\n",
       "      <td>1.031394</td>\n",
       "      <td>-1.054435</td>\n",
       "      <td>3.117222</td>\n",
       "      <td>1.806899</td>\n",
       "      <td>0.568718</td>\n",
       "    </tr>\n",
       "    <tr>\n",
       "      <th>5</th>\n",
       "      <td>ZLW2-RNAi</td>\n",
       "      <td>ZLW3-RNAi</td>\n",
       "      <td>3.892546</td>\n",
       "      <td>1.827685</td>\n",
       "      <td>5.957407</td>\n",
       "      <td>6.888599</td>\n",
       "      <td>0.001000</td>\n",
       "    </tr>\n",
       "  </tbody>\n",
       "</table>\n",
       "</div>"
      ],
      "text/plain": [
       "      group1     group2      Diff     Lower     Upper    q-value   p-value\n",
       "0    control  ZLW1-RNAi  4.497413  2.404644  6.590182   7.852891  0.001000\n",
       "1    control  ZLW2-RNAi  7.358565  5.286694  9.430437  12.978317  0.001000\n",
       "2    control  ZLW3-RNAi  3.466019  1.387345  5.544694   6.093019  0.001000\n",
       "3  ZLW1-RNAi  ZLW2-RNAi  2.861152  0.782103  4.940201   5.028799  0.002467\n",
       "4  ZLW1-RNAi  ZLW3-RNAi  1.031394 -1.054435  3.117222   1.806899  0.568718\n",
       "5  ZLW2-RNAi  ZLW3-RNAi  3.892546  1.827685  5.957407   6.888599  0.001000"
      ]
     },
     "execution_count": 79,
     "metadata": {},
     "output_type": "execute_result"
    }
   ],
   "source": [
    "\n",
    "# perform multiple pairwise comparison (Tukey's HSD)\n",
    "# unequal sample size data, tukey_hsd uses Tukey-Kramer test\n",
    "res = stat()\n",
    "res.tukey_hsd(df=data5, res_var='Intensity', xfac_var='Treatment', anova_model='Intensity ~ C(Treatment)')\n",
    "res.tukey_summary"
   ]
  },
  {
   "cell_type": "markdown",
   "metadata": {},
   "source": [
    "The TukeyHSD() function performed the post-hoc analysis. The function returns a table with each of the six pairwise comparisons of treatments as the rows. The columns are 'diff', which is the difference in mean responses between the two treatments, 'lwr' and 'upr', which are the bounds of the 95% confidence interval for the 'diff', and 'p adj', which is the p-value from a q-test. In this case, five of the six possible pairwise comparisons had significantly different responses, demonstrated by a 'p adj' value less than 0.05 and a confidence interval that does not overlap zero. Only ZLW3 RNAi vs ZLW1 RNAi was not significant.\n",
    "\n",
    "By using the ANOVA to Tukey-Kramer approach, we have kept the false positive rate at or below 0.05. We can draw the conclusion that RNAi of all three ZLW family genes significantly decreases fluorescence intensity of our reporter relative to a control. We can further say that RNAi of ZLW2 has a stronger effect on the fluorescence intensity of the reporter than ZLW1 and ZLW3.\n",
    "\n",
    "For displaying our results in a figure, we can use a stripchart with mean and 95% confidence intervals overlayed like we did for examples 1 and 2. We have already calculated the mean responses for each treatment. Now we need to extract the 95% confidence intervals from the ANOVA result using the confint() function."
   ]
  },
  {
   "cell_type": "markdown",
   "metadata": {},
   "source": [
    "The function confint() gets the 95% confidence intervals for the first treatment and refers to this treatment as the intercept. In our case, that was ZLW1-RNAi. It then gets the confidence intervals for the other treatments relative to the \"intercept\" which is the mean response of ZLW1-RNAi. So in order to get the absolute confidence intervals rather than the relative confidence intervals, we have to add the mean response of ZLW1-RNAi (stored in stats5[1,4]) to all the remaining confidence interval lower and upper values. The second table printed has the absolute confidence intervals.\n",
    "\n",
    "Now we can make the stripchart."
   ]
  },
  {
   "cell_type": "code",
   "execution_count": null,
   "metadata": {},
   "outputs": [],
   "source": []
  },
  {
   "cell_type": "markdown",
   "metadata": {},
   "source": [
    "The figure shows the distribution of responses for each treatment which makes clear that these are overlapping distributions. The 95% confidence intervals around the mean response for each treatment however echo the results from the ANOVA and Tukey-Kramer post-hoc analysis, which is that the means are not equal and all of the treatments have significantly different responses with the exception of ZLW1-RNAi and ZLW3-RNAi. For ZLW1-RNAi and ZLW3-RNAi, the mean response of each treatment is contained within the confidence interval of the other treatment, making it clear that these are not significantly different treatments."
   ]
  },
  {
   "cell_type": "code",
   "execution_count": null,
   "metadata": {},
   "outputs": [],
   "source": []
  },
  {
   "cell_type": "code",
   "execution_count": null,
   "metadata": {},
   "outputs": [],
   "source": []
  }
 ],
 "metadata": {
  "hide_input": false,
  "kernelspec": {
   "display_name": "Python 3 (ipykernel)",
   "language": "python",
   "name": "python3"
  },
  "language_info": {
   "codemirror_mode": {
    "name": "ipython",
    "version": 3
   },
   "file_extension": ".py",
   "mimetype": "text/x-python",
   "name": "python",
   "nbconvert_exporter": "python",
   "pygments_lexer": "ipython3",
   "version": "3.7.7"
  },
  "toc": {
   "base_numbering": 1,
   "nav_menu": {},
   "number_sections": true,
   "sideBar": true,
   "skip_h1_title": false,
   "title_cell": "Table of Contents",
   "title_sidebar": "Contents",
   "toc_cell": false,
   "toc_position": {},
   "toc_section_display": true,
   "toc_window_display": true
  }
 },
 "nbformat": 4,
 "nbformat_minor": 2
}
